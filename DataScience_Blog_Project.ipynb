{
 "cells": [
  {
   "cell_type": "code",
   "execution_count": 107,
   "id": "054fbdc5",
   "metadata": {},
   "outputs": [
    {
     "name": "stdout",
     "output_type": "stream",
     "text": [
      "<class 'pandas.core.frame.DataFrame'>\n",
      "RangeIndex: 51392 entries, 0 to 51391\n",
      "Columns: 154 entries, Respondent to ExpectedSalary\n",
      "dtypes: float64(6), int64(1), object(147)\n",
      "memory usage: 60.4+ MB\n"
     ]
    }
   ],
   "source": [
    "import numpy as np\n",
    "import pandas as pd\n",
    "import matplotlib.pyplot as plt\n",
    "import copy\n",
    "%matplotlib inline\n",
    "\n",
    "df = pd.read_csv('./survey_results_public.csv')\n",
    "df.info()"
   ]
  },
  {
   "cell_type": "markdown",
   "id": "04270bbf",
   "metadata": {},
   "source": [
    "#### Check to see how many NAN/NULL values in Gender column"
   ]
  },
  {
   "cell_type": "code",
   "execution_count": 108,
   "id": "cb1d7016",
   "metadata": {},
   "outputs": [
    {
     "data": {
      "text/plain": [
       "False    35047\n",
       "True     16345\n",
       "Name: Gender, dtype: int64"
      ]
     },
     "execution_count": 108,
     "metadata": {},
     "output_type": "execute_result"
    }
   ],
   "source": [
    "pd.isnull(df[\"Gender\"]).value_counts()"
   ]
  },
  {
   "cell_type": "markdown",
   "id": "995305b6",
   "metadata": {},
   "source": [
    "#### Copy of Master DataFrame for further Gender based analysis"
   ]
  },
  {
   "cell_type": "code",
   "execution_count": 109,
   "id": "4def8c95",
   "metadata": {},
   "outputs": [
    {
     "data": {
      "text/html": [
       "<div>\n",
       "<style scoped>\n",
       "    .dataframe tbody tr th:only-of-type {\n",
       "        vertical-align: middle;\n",
       "    }\n",
       "\n",
       "    .dataframe tbody tr th {\n",
       "        vertical-align: top;\n",
       "    }\n",
       "\n",
       "    .dataframe thead th {\n",
       "        text-align: right;\n",
       "    }\n",
       "</style>\n",
       "<table border=\"1\" class=\"dataframe\">\n",
       "  <thead>\n",
       "    <tr style=\"text-align: right;\">\n",
       "      <th></th>\n",
       "      <th>Respondent</th>\n",
       "      <th>Professional</th>\n",
       "      <th>ProgramHobby</th>\n",
       "      <th>Country</th>\n",
       "      <th>University</th>\n",
       "      <th>EmploymentStatus</th>\n",
       "      <th>FormalEducation</th>\n",
       "      <th>MajorUndergrad</th>\n",
       "      <th>HomeRemote</th>\n",
       "      <th>CompanySize</th>\n",
       "      <th>...</th>\n",
       "      <th>StackOverflowMakeMoney</th>\n",
       "      <th>Gender</th>\n",
       "      <th>HighestEducationParents</th>\n",
       "      <th>Race</th>\n",
       "      <th>SurveyLong</th>\n",
       "      <th>QuestionsInteresting</th>\n",
       "      <th>QuestionsConfusing</th>\n",
       "      <th>InterestedAnswers</th>\n",
       "      <th>Salary</th>\n",
       "      <th>ExpectedSalary</th>\n",
       "    </tr>\n",
       "  </thead>\n",
       "  <tbody>\n",
       "    <tr>\n",
       "      <th>0</th>\n",
       "      <td>1</td>\n",
       "      <td>Student</td>\n",
       "      <td>Yes, both</td>\n",
       "      <td>United States</td>\n",
       "      <td>No</td>\n",
       "      <td>Not employed, and not looking for work</td>\n",
       "      <td>Secondary school</td>\n",
       "      <td>NaN</td>\n",
       "      <td>NaN</td>\n",
       "      <td>NaN</td>\n",
       "      <td>...</td>\n",
       "      <td>Strongly disagree</td>\n",
       "      <td>Male</td>\n",
       "      <td>High school</td>\n",
       "      <td>White or of European descent</td>\n",
       "      <td>Strongly disagree</td>\n",
       "      <td>Strongly agree</td>\n",
       "      <td>Disagree</td>\n",
       "      <td>Strongly agree</td>\n",
       "      <td>NaN</td>\n",
       "      <td>NaN</td>\n",
       "    </tr>\n",
       "    <tr>\n",
       "      <th>1</th>\n",
       "      <td>2</td>\n",
       "      <td>Student</td>\n",
       "      <td>Yes, both</td>\n",
       "      <td>United Kingdom</td>\n",
       "      <td>Yes, full-time</td>\n",
       "      <td>Employed part-time</td>\n",
       "      <td>Some college/university study without earning ...</td>\n",
       "      <td>Computer science or software engineering</td>\n",
       "      <td>More than half, but not all, the time</td>\n",
       "      <td>20 to 99 employees</td>\n",
       "      <td>...</td>\n",
       "      <td>Strongly disagree</td>\n",
       "      <td>Male</td>\n",
       "      <td>A master's degree</td>\n",
       "      <td>White or of European descent</td>\n",
       "      <td>Somewhat agree</td>\n",
       "      <td>Somewhat agree</td>\n",
       "      <td>Disagree</td>\n",
       "      <td>Strongly agree</td>\n",
       "      <td>NaN</td>\n",
       "      <td>37500.0</td>\n",
       "    </tr>\n",
       "    <tr>\n",
       "      <th>2</th>\n",
       "      <td>3</td>\n",
       "      <td>Professional developer</td>\n",
       "      <td>Yes, both</td>\n",
       "      <td>United Kingdom</td>\n",
       "      <td>No</td>\n",
       "      <td>Employed full-time</td>\n",
       "      <td>Bachelor's degree</td>\n",
       "      <td>Computer science or software engineering</td>\n",
       "      <td>Less than half the time, but at least one day ...</td>\n",
       "      <td>10,000 or more employees</td>\n",
       "      <td>...</td>\n",
       "      <td>Disagree</td>\n",
       "      <td>Male</td>\n",
       "      <td>A professional degree</td>\n",
       "      <td>White or of European descent</td>\n",
       "      <td>Somewhat agree</td>\n",
       "      <td>Agree</td>\n",
       "      <td>Disagree</td>\n",
       "      <td>Agree</td>\n",
       "      <td>113750.0</td>\n",
       "      <td>NaN</td>\n",
       "    </tr>\n",
       "    <tr>\n",
       "      <th>3</th>\n",
       "      <td>4</td>\n",
       "      <td>Professional non-developer who sometimes write...</td>\n",
       "      <td>Yes, both</td>\n",
       "      <td>United States</td>\n",
       "      <td>No</td>\n",
       "      <td>Employed full-time</td>\n",
       "      <td>Doctoral degree</td>\n",
       "      <td>A non-computer-focused engineering discipline</td>\n",
       "      <td>Less than half the time, but at least one day ...</td>\n",
       "      <td>10,000 or more employees</td>\n",
       "      <td>...</td>\n",
       "      <td>Disagree</td>\n",
       "      <td>Male</td>\n",
       "      <td>A doctoral degree</td>\n",
       "      <td>White or of European descent</td>\n",
       "      <td>Agree</td>\n",
       "      <td>Agree</td>\n",
       "      <td>Somewhat agree</td>\n",
       "      <td>Strongly agree</td>\n",
       "      <td>NaN</td>\n",
       "      <td>NaN</td>\n",
       "    </tr>\n",
       "    <tr>\n",
       "      <th>4</th>\n",
       "      <td>5</td>\n",
       "      <td>Professional developer</td>\n",
       "      <td>Yes, I program as a hobby</td>\n",
       "      <td>Switzerland</td>\n",
       "      <td>No</td>\n",
       "      <td>Employed full-time</td>\n",
       "      <td>Master's degree</td>\n",
       "      <td>Computer science or software engineering</td>\n",
       "      <td>Never</td>\n",
       "      <td>10 to 19 employees</td>\n",
       "      <td>...</td>\n",
       "      <td>NaN</td>\n",
       "      <td>NaN</td>\n",
       "      <td>NaN</td>\n",
       "      <td>NaN</td>\n",
       "      <td>NaN</td>\n",
       "      <td>NaN</td>\n",
       "      <td>NaN</td>\n",
       "      <td>NaN</td>\n",
       "      <td>NaN</td>\n",
       "      <td>NaN</td>\n",
       "    </tr>\n",
       "  </tbody>\n",
       "</table>\n",
       "<p>5 rows × 154 columns</p>\n",
       "</div>"
      ],
      "text/plain": [
       "   Respondent                                       Professional  \\\n",
       "0           1                                            Student   \n",
       "1           2                                            Student   \n",
       "2           3                             Professional developer   \n",
       "3           4  Professional non-developer who sometimes write...   \n",
       "4           5                             Professional developer   \n",
       "\n",
       "                ProgramHobby         Country      University  \\\n",
       "0                  Yes, both   United States              No   \n",
       "1                  Yes, both  United Kingdom  Yes, full-time   \n",
       "2                  Yes, both  United Kingdom              No   \n",
       "3                  Yes, both   United States              No   \n",
       "4  Yes, I program as a hobby     Switzerland              No   \n",
       "\n",
       "                         EmploymentStatus  \\\n",
       "0  Not employed, and not looking for work   \n",
       "1                      Employed part-time   \n",
       "2                      Employed full-time   \n",
       "3                      Employed full-time   \n",
       "4                      Employed full-time   \n",
       "\n",
       "                                     FormalEducation  \\\n",
       "0                                   Secondary school   \n",
       "1  Some college/university study without earning ...   \n",
       "2                                  Bachelor's degree   \n",
       "3                                    Doctoral degree   \n",
       "4                                    Master's degree   \n",
       "\n",
       "                                  MajorUndergrad  \\\n",
       "0                                            NaN   \n",
       "1       Computer science or software engineering   \n",
       "2       Computer science or software engineering   \n",
       "3  A non-computer-focused engineering discipline   \n",
       "4       Computer science or software engineering   \n",
       "\n",
       "                                          HomeRemote  \\\n",
       "0                                                NaN   \n",
       "1              More than half, but not all, the time   \n",
       "2  Less than half the time, but at least one day ...   \n",
       "3  Less than half the time, but at least one day ...   \n",
       "4                                              Never   \n",
       "\n",
       "                CompanySize  ... StackOverflowMakeMoney Gender  \\\n",
       "0                       NaN  ...      Strongly disagree   Male   \n",
       "1        20 to 99 employees  ...      Strongly disagree   Male   \n",
       "2  10,000 or more employees  ...               Disagree   Male   \n",
       "3  10,000 or more employees  ...               Disagree   Male   \n",
       "4        10 to 19 employees  ...                    NaN    NaN   \n",
       "\n",
       "  HighestEducationParents                          Race         SurveyLong  \\\n",
       "0             High school  White or of European descent  Strongly disagree   \n",
       "1       A master's degree  White or of European descent     Somewhat agree   \n",
       "2   A professional degree  White or of European descent     Somewhat agree   \n",
       "3       A doctoral degree  White or of European descent              Agree   \n",
       "4                     NaN                           NaN                NaN   \n",
       "\n",
       "  QuestionsInteresting QuestionsConfusing InterestedAnswers    Salary  \\\n",
       "0       Strongly agree           Disagree    Strongly agree       NaN   \n",
       "1       Somewhat agree           Disagree    Strongly agree       NaN   \n",
       "2                Agree           Disagree             Agree  113750.0   \n",
       "3                Agree     Somewhat agree    Strongly agree       NaN   \n",
       "4                  NaN                NaN               NaN       NaN   \n",
       "\n",
       "   ExpectedSalary  \n",
       "0             NaN  \n",
       "1         37500.0  \n",
       "2             NaN  \n",
       "3             NaN  \n",
       "4             NaN  \n",
       "\n",
       "[5 rows x 154 columns]"
      ]
     },
     "execution_count": 109,
     "metadata": {},
     "output_type": "execute_result"
    }
   ],
   "source": [
    "df_2_gender = copy.deepcopy(df)\n",
    "df_2_gender.head()"
   ]
  },
  {
   "cell_type": "markdown",
   "id": "113043dc",
   "metadata": {},
   "source": [
    "## Diversity & Inclusion (Analysis based on response from Female respondents)"
   ]
  },
  {
   "cell_type": "code",
   "execution_count": 110,
   "id": "70f73d64",
   "metadata": {},
   "outputs": [
    {
     "name": "stdout",
     "output_type": "stream",
     "text": [
      "<class 'pandas.core.frame.DataFrame'>\n",
      "Int64Index: 35047 entries, 0 to 51391\n",
      "Columns: 154 entries, Respondent to ExpectedSalary\n",
      "dtypes: float64(6), int64(1), object(147)\n",
      "memory usage: 41.4+ MB\n"
     ]
    }
   ],
   "source": [
    "df_2_gender = df_2_gender[df_2_gender['Gender'].notna()]\n",
    "df_2_gender.info()"
   ]
  },
  {
   "cell_type": "code",
   "execution_count": 111,
   "id": "499e836e",
   "metadata": {},
   "outputs": [],
   "source": [
    "df_2_gender_subset = df_2_gender[['Gender','Country','Race','CompanySize','HomeRemote','Professional','University',\n",
    "                                  'FormalEducation','EmploymentStatus','HighestEducationParents','JobSatisfaction','CareerSatisfaction']]\n",
    "#df_2_gender_subset.head(10)"
   ]
  },
  {
   "cell_type": "code",
   "execution_count": 112,
   "id": "39db0261",
   "metadata": {},
   "outputs": [
    {
     "data": {
      "text/plain": [
       "Gender                        0\n",
       "Country                       0\n",
       "Race                       2233\n",
       "CompanySize                7760\n",
       "HomeRemote                 4077\n",
       "Professional                  0\n",
       "University                    0\n",
       "FormalEducation               0\n",
       "EmploymentStatus              0\n",
       "HighestEducationParents     423\n",
       "JobSatisfaction            6032\n",
       "CareerSatisfaction         4568\n",
       "dtype: int64"
      ]
     },
     "execution_count": 112,
     "metadata": {},
     "output_type": "execute_result"
    }
   ],
   "source": [
    "df_2_gender_subset.isnull().sum()"
   ]
  },
  {
   "cell_type": "markdown",
   "id": "5e511b6e",
   "metadata": {},
   "source": [
    "## How much % of Stack overflow feedback is provided by Female & Male."
   ]
  },
  {
   "cell_type": "code",
   "execution_count": 113,
   "id": "57da295b",
   "metadata": {},
   "outputs": [
    {
     "data": {
      "text/plain": [
       "90.13324963620282"
      ]
     },
     "execution_count": 113,
     "metadata": {},
     "output_type": "execute_result"
    }
   ],
   "source": [
    "cous_gender_vals = df_2_gender_subset.Gender.value_counts()\n",
    "#cous_gender_vals\n",
    "male_count = cous_gender_vals[0]\n",
    "female_count = cous_gender_vals[1]\n",
    "\n",
    "val_count = df_2_gender_subset.shape[0]\n",
    "Perc_male_feedback = (male_count/val_count)*100\n",
    "Perc_male_feedback"
   ]
  },
  {
   "cell_type": "code",
   "execution_count": 114,
   "id": "6a8f427a",
   "metadata": {},
   "outputs": [
    {
     "data": {
      "text/plain": [
       "7.4186092960881105"
      ]
     },
     "execution_count": 114,
     "metadata": {},
     "output_type": "execute_result"
    }
   ],
   "source": [
    "val_count = df_2_gender_subset.shape[0]\n",
    "Perc_female_feedback = (female_count/val_count)*100\n",
    "Perc_female_feedback"
   ]
  },
  {
   "cell_type": "markdown",
   "id": "fe97f60c",
   "metadata": {},
   "source": [
    "#### Approx. 90% of feedback is provided by male and approx. 8% is provided by female. "
   ]
  },
  {
   "cell_type": "markdown",
   "id": "c3c93df9",
   "metadata": {},
   "source": [
    "# Since we know % feedback by female so now we drill down few columns to understand their profession, employment status, Acadmics background, Job and Career Satisfaction."
   ]
  },
  {
   "cell_type": "code",
   "execution_count": 115,
   "id": "e35ed8ca",
   "metadata": {},
   "outputs": [],
   "source": [
    "df_female_data = df_2_gender_subset.loc[df_2_gender_subset['Gender'] == 'Female']"
   ]
  },
  {
   "cell_type": "code",
   "execution_count": 116,
   "id": "5ddef263",
   "metadata": {},
   "outputs": [
    {
     "name": "stdout",
     "output_type": "stream",
     "text": [
      "<class 'pandas.core.frame.DataFrame'>\n",
      "Int64Index: 2600 entries, 10 to 51385\n",
      "Data columns (total 12 columns):\n",
      " #   Column                   Non-Null Count  Dtype  \n",
      "---  ------                   --------------  -----  \n",
      " 0   Gender                   2600 non-null   object \n",
      " 1   Country                  2600 non-null   object \n",
      " 2   Race                     2410 non-null   object \n",
      " 3   CompanySize              2150 non-null   object \n",
      " 4   HomeRemote               2314 non-null   object \n",
      " 5   Professional             2600 non-null   object \n",
      " 6   University               2600 non-null   object \n",
      " 7   FormalEducation          2600 non-null   object \n",
      " 8   EmploymentStatus         2600 non-null   object \n",
      " 9   HighestEducationParents  2576 non-null   object \n",
      " 10  JobSatisfaction          2130 non-null   float64\n",
      " 11  CareerSatisfaction       2237 non-null   float64\n",
      "dtypes: float64(2), object(10)\n",
      "memory usage: 264.1+ KB\n"
     ]
    }
   ],
   "source": [
    "df_female_data.info()"
   ]
  },
  {
   "cell_type": "code",
   "execution_count": 117,
   "id": "9f4275e1",
   "metadata": {},
   "outputs": [
    {
     "data": {
      "text/plain": [
       "Professional developer                                  1842\n",
       "Student                                                  353\n",
       "Professional non-developer who sometimes writes code     327\n",
       "Used to be a professional developer                       52\n",
       "None of these                                             26\n",
       "Name: Professional, dtype: int64"
      ]
     },
     "execution_count": 117,
     "metadata": {},
     "output_type": "execute_result"
    }
   ],
   "source": [
    "df_female_data.Professional.value_counts()"
   ]
  },
  {
   "cell_type": "markdown",
   "id": "44a49ac7",
   "metadata": {},
   "source": [
    "Most of the female are either professional delveloper or was in developer area. Developer roles provide flexibility, better work-life balance, non-shift timings, continuos enhancement options. So it could be preferred choice for Female employees. "
   ]
  },
  {
   "cell_type": "code",
   "execution_count": 118,
   "id": "9a8dc0bc",
   "metadata": {},
   "outputs": [
    {
     "data": {
      "text/plain": [
       "75.5"
      ]
     },
     "execution_count": 118,
     "metadata": {},
     "output_type": "execute_result"
    }
   ],
   "source": [
    "Perc_female_cmpysize = df_female_data.CompanySize.value_counts()\n",
    "Perc_female_cmpysize\n",
    "val_count=0\n",
    "for i in range(7):\n",
    "      val_count = val_count + Perc_female_cmpysize[i] \n",
    "#print (val_count)\n",
    "total_val_count = df_female_data.shape[0]\n",
    "#total_val_count\n",
    "Perc_female_cmpysize = (val_count/total_val_count)*100\n",
    "Perc_female_cmpysize"
   ]
  },
  {
   "cell_type": "markdown",
   "id": "e25a07f5",
   "metadata": {},
   "source": [
    "#### Above statistics shows that approx. 76% Female works in Small to Medium scale company (Based of no. of employees)."
   ]
  },
  {
   "cell_type": "code",
   "execution_count": 119,
   "id": "077d9b06",
   "metadata": {},
   "outputs": [
    {
     "data": {
      "text/plain": [
       "89.57692307692308"
      ]
     },
     "execution_count": 119,
     "metadata": {},
     "output_type": "execute_result"
    }
   ],
   "source": [
    "Perc_female_EmploymentStatus = df_female_data.EmploymentStatus.value_counts()\n",
    "val_count=0\n",
    "for i in range(3):\n",
    "      val_count = val_count + Perc_female_EmploymentStatus[i] \n",
    "#print (val_count)\n",
    "total_val_count = df_female_data.shape[0]\n",
    "#total_val_count\n",
    "Perc_female_EmploymentStatus = (val_count/total_val_count)*100\n",
    "Perc_female_EmploymentStatus"
   ]
  },
  {
   "cell_type": "code",
   "execution_count": 120,
   "id": "0142b8ab",
   "metadata": {},
   "outputs": [
    {
     "data": {
      "text/plain": [
       "20 to 99 employees          488\n",
       "100 to 499 employees        399\n",
       "10,000 or more employees    319\n",
       "1,000 to 4,999 employees    232\n",
       "10 to 19 employees          199\n",
       "Fewer than 10 employees     166\n",
       "500 to 999 employees        160\n",
       "5,000 to 9,999 employees     89\n",
       "I don't know                 69\n",
       "I prefer not to answer       29\n",
       "Name: CompanySize, dtype: int64"
      ]
     },
     "execution_count": 120,
     "metadata": {},
     "output_type": "execute_result"
    }
   ],
   "source": [
    "Perc_female_cmpysize1 = df_female_data.CompanySize.value_counts()\n",
    "Perc_female_cmpysize1"
   ]
  },
  {
   "cell_type": "markdown",
   "id": "b0e9e854",
   "metadata": {},
   "source": [
    "#### Above statistics shows that approx. 90% female is either full-time/part-time/self-employed."
   ]
  },
  {
   "cell_type": "code",
   "execution_count": 121,
   "id": "ee2cdb7a",
   "metadata": {},
   "outputs": [
    {
     "data": {
      "text/plain": [
       "99.03846153846155"
      ]
     },
     "execution_count": 121,
     "metadata": {},
     "output_type": "execute_result"
    }
   ],
   "source": [
    "Perc_female_FormalEducation = df_female_data.FormalEducation.value_counts()\n",
    "val_count=0\n",
    "for i in range(6):\n",
    "      val_count = val_count + Perc_female_FormalEducation[i] \n",
    "#print (val_count)\n",
    "total_val_count = df_female_data.shape[0]\n",
    "#total_val_count\n",
    "Perc_female_FormalEducation = (val_count/total_val_count)*100\n",
    "Perc_female_FormalEducation"
   ]
  },
  {
   "cell_type": "code",
   "execution_count": 122,
   "id": "abad7edf",
   "metadata": {},
   "outputs": [
    {
     "data": {
      "text/plain": [
       "Bachelor's degree                                                    1321\n",
       "Master's degree                                                       690\n",
       "Some college/university study without earning a bachelor's degree     292\n",
       "Secondary school                                                      143\n",
       "Doctoral degree                                                        98\n",
       "Professional degree                                                    31\n",
       "I prefer not to answer                                                 19\n",
       "Primary/elementary school                                               4\n",
       "I never completed any formal education                                  2\n",
       "Name: FormalEducation, dtype: int64"
      ]
     },
     "execution_count": 122,
     "metadata": {},
     "output_type": "execute_result"
    }
   ],
   "source": [
    "Perc_female_FormalEducation1 = df_female_data.FormalEducation.value_counts()\n",
    "Perc_female_FormalEducation1"
   ]
  },
  {
   "cell_type": "code",
   "execution_count": 123,
   "id": "31316eca",
   "metadata": {},
   "outputs": [
    {
     "data": {
      "text/plain": [
       "94.38461538461539"
      ]
     },
     "execution_count": 123,
     "metadata": {},
     "output_type": "execute_result"
    }
   ],
   "source": [
    "Perc_female_ParentsEducation = df_female_data.HighestEducationParents.value_counts()\n",
    "val_count=0\n",
    "for i in range(6):\n",
    "      val_count = val_count + Perc_female_ParentsEducation[i] \n",
    "#print (val_count)\n",
    "total_val_count = df_female_data.shape[0]\n",
    "#total_val_count\n",
    "Perc_female_ParentsEducation = (val_count/total_val_count)*100\n",
    "Perc_female_ParentsEducation"
   ]
  },
  {
   "cell_type": "code",
   "execution_count": 124,
   "id": "9e6a995c",
   "metadata": {},
   "outputs": [
    {
     "data": {
      "text/plain": [
       "A bachelor's degree                                    784\n",
       "A master's degree                                      633\n",
       "Some college/university study, no bachelor's degree    367\n",
       "High school                                            344\n",
       "A doctoral degree                                      194\n",
       "A professional degree                                  132\n",
       "Primary/elementary school                               61\n",
       "I don't know/not sure                                   29\n",
       "I prefer not to answer                                  24\n",
       "No education                                             8\n",
       "Name: HighestEducationParents, dtype: int64"
      ]
     },
     "execution_count": 124,
     "metadata": {},
     "output_type": "execute_result"
    }
   ],
   "source": [
    "Perc_female_ParentsEducation1 = df_female_data.HighestEducationParents.value_counts()\n",
    "Perc_female_ParentsEducation1"
   ]
  },
  {
   "cell_type": "markdown",
   "id": "1fe88c2e",
   "metadata": {},
   "source": [
    "\n",
    "#### Above statistics shows that approx. 99% female have pursued good degrees and approx. 95% parents of those female are also pursed good degrees.  It has deep co-relation of Parent's - Child education and base platform given to them, which helped female to pursue good education followed by good career propects. "
   ]
  },
  {
   "cell_type": "code",
   "execution_count": 125,
   "id": "03a40815",
   "metadata": {},
   "outputs": [
    {
     "data": {
      "text/plain": [
       "Text(0, 0.5, 'No. of Female')"
      ]
     },
     "execution_count": 125,
     "metadata": {},
     "output_type": "execute_result"
    },
    {
     "data": {
      "image/png": "[encoded data removed]",
      "text/plain": [
       "<Figure size 432x288 with 1 Axes>"
      ]
     },
     "metadata": {
      "needs_background": "light"
     },
     "output_type": "display_data"
    }
   ],
   "source": [
    "pd.value_counts(df_female_data['CareerSatisfaction']).plot.bar()\n",
    "plt.title(\"CareerSatisfaction Chart\")\n",
    "plt.xlabel(\"Rating\")\n",
    "plt.ylabel(\"No. of Female\")"
   ]
  },
  {
   "cell_type": "code",
   "execution_count": 126,
   "id": "c8dc95c2",
   "metadata": {},
   "outputs": [
    {
     "data": {
      "text/plain": [
       "Text(0, 0.5, 'No. of Female')"
      ]
     },
     "execution_count": 126,
     "metadata": {},
     "output_type": "execute_result"
    },
    {
     "data": {
      "image/png": "[encoded data removed]",
      "text/plain": [
       "<Figure size 432x288 with 1 Axes>"
      ]
     },
     "metadata": {
      "needs_background": "light"
     },
     "output_type": "display_data"
    }
   ],
   "source": [
    "pd.value_counts(df_female_data['JobSatisfaction']).plot.bar()\n",
    "plt.title(\"JobSatisfaction Chart\")\n",
    "plt.xlabel(\"Rating\")\n",
    "plt.ylabel(\"No. of Female\")"
   ]
  },
  {
   "cell_type": "markdown",
   "id": "33329268",
   "metadata": {},
   "source": [
    "##### Since we have JobSatisfaction and CareerSatisfaction rating by female respondents and above graphs show that overall satisfaction rating for both Job and Career for most of them is above 6.  Key contributors to achieve those rating could be their educational qualification and professional role. Since we have no mathmatical respresenatation of such columns so unable to prepare  mathemcatical model for prediction but above analysis clearly concluded that Parent's educational background somehow helped for broader prospect for them to pursue good degrees which in-turn helped for right career direction and roles which turned out to good satisfaction rating.\n",
    "\n",
    "#### Feedback is provided by just 8% of whole dataset so increased % of feedack will helps to get more accurate or divserfied result. \n"
   ]
  },
  {
   "cell_type": "markdown",
   "id": "c3bbaf47",
   "metadata": {},
   "source": [
    "## Technology Prospects"
   ]
  },
  {
   "cell_type": "code",
   "execution_count": 127,
   "id": "66ce0d4e",
   "metadata": {},
   "outputs": [],
   "source": [
    "df1 = copy.deepcopy(df)"
   ]
  },
  {
   "cell_type": "markdown",
   "id": "69d3bb83",
   "metadata": {},
   "source": [
    "#### Since we have 2 columns CareerSatisfaction & JobSatisfaction with 85-90% data so imputing mean() value may help to have better analysis."
   ]
  },
  {
   "cell_type": "code",
   "execution_count": 128,
   "id": "1f1430ab",
   "metadata": {},
   "outputs": [],
   "source": [
    "df1['CareerSatisfaction'].fillna(value=df1['CareerSatisfaction'].mean(), inplace=True)"
   ]
  },
  {
   "cell_type": "code",
   "execution_count": 129,
   "id": "0cd5355f",
   "metadata": {},
   "outputs": [],
   "source": [
    "df1['JobSatisfaction'].fillna(value=df1['JobSatisfaction'].mean(), inplace=True)"
   ]
  },
  {
   "cell_type": "markdown",
   "id": "479e1954",
   "metadata": {},
   "source": [
    "#### Copy of Master DataFrame for further Technology based analysis."
   ]
  },
  {
   "cell_type": "code",
   "execution_count": 130,
   "id": "7c697611",
   "metadata": {},
   "outputs": [],
   "source": [
    "df_2_skillset = copy.deepcopy(df1)"
   ]
  },
  {
   "cell_type": "markdown",
   "id": "08863c7c",
   "metadata": {},
   "source": [
    "## Here we will analyze techonology prospect of respondents. Which development frameworks, databases, languages are being used by professionals and what is in their to-do list for learning to get better opportunity. "
   ]
  },
  {
   "cell_type": "markdown",
   "id": "b88ccd13",
   "metadata": {},
   "source": [
    "#### We have created subset dataframe with columns related with above analysis."
   ]
  },
  {
   "cell_type": "code",
   "execution_count": 131,
   "id": "e0b4273c",
   "metadata": {},
   "outputs": [],
   "source": [
    "df_2_skill_subset = df_2_skillset[['Professional','HaveWorkedFramework','WantWorkFramework','HaveWorkedDatabase','WantWorkDatabase',\n",
    "                                  'HaveWorkedLanguage','WantWorkLanguage','CareerSatisfaction','JobSatisfaction']]"
   ]
  },
  {
   "cell_type": "code",
   "execution_count": 132,
   "id": "00408ca4",
   "metadata": {},
   "outputs": [
    {
     "name": "stdout",
     "output_type": "stream",
     "text": [
      "<class 'pandas.core.frame.DataFrame'>\n",
      "RangeIndex: 51392 entries, 0 to 51391\n",
      "Data columns (total 9 columns):\n",
      " #   Column               Non-Null Count  Dtype  \n",
      "---  ------               --------------  -----  \n",
      " 0   Professional         51392 non-null  object \n",
      " 1   HaveWorkedFramework  20229 non-null  object \n",
      " 2   WantWorkFramework    23331 non-null  object \n",
      " 3   HaveWorkedDatabase   29452 non-null  object \n",
      " 4   WantWorkDatabase     25109 non-null  object \n",
      " 5   HaveWorkedLanguage   36625 non-null  object \n",
      " 6   WantWorkLanguage     33771 non-null  object \n",
      " 7   CareerSatisfaction   51392 non-null  float64\n",
      " 8   JobSatisfaction      51392 non-null  float64\n",
      "dtypes: float64(2), object(7)\n",
      "memory usage: 3.5+ MB\n"
     ]
    }
   ],
   "source": [
    "df_2_skill_subset.info()"
   ]
  },
  {
   "cell_type": "markdown",
   "id": "7f98a08b",
   "metadata": {},
   "source": [
    "#### As we see respondent's response on these columns is not 100% and we could have used Imputing methods for these categorical columns but since missing value % is 30-60% so its not right thought to impute as it may lead to wrong conclusion. "
   ]
  },
  {
   "cell_type": "markdown",
   "id": "b737735b",
   "metadata": {},
   "source": [
    "## Langauage based :\n",
    "#### We have dropped all the rows where value is NULL or NaN becuase we cannot imput apporipate value into these categorical columns. "
   ]
  },
  {
   "cell_type": "code",
   "execution_count": 133,
   "id": "42f8a896",
   "metadata": {},
   "outputs": [
    {
     "name": "stdout",
     "output_type": "stream",
     "text": [
      "<class 'pandas.core.frame.DataFrame'>\n",
      "Int64Index: 33465 entries, 0 to 51390\n",
      "Data columns (total 9 columns):\n",
      " #   Column               Non-Null Count  Dtype  \n",
      "---  ------               --------------  -----  \n",
      " 0   Professional         33465 non-null  object \n",
      " 1   HaveWorkedFramework  18442 non-null  object \n",
      " 2   WantWorkFramework    22228 non-null  object \n",
      " 3   HaveWorkedDatabase   26772 non-null  object \n",
      " 4   WantWorkDatabase     24069 non-null  object \n",
      " 5   HaveWorkedLanguage   33465 non-null  object \n",
      " 6   WantWorkLanguage     33465 non-null  object \n",
      " 7   CareerSatisfaction   33465 non-null  float64\n",
      " 8   JobSatisfaction      33465 non-null  float64\n",
      "dtypes: float64(2), object(7)\n",
      "memory usage: 2.6+ MB\n"
     ]
    }
   ],
   "source": [
    "df_2_skill_subset_lang = df_2_skill_subset.dropna(subset=['HaveWorkedLanguage','WantWorkLanguage'])\n",
    "df_2_skill_subset_lang.info()"
   ]
  },
  {
   "cell_type": "markdown",
   "id": "17a47214",
   "metadata": {},
   "source": [
    "#### Now we have 5 columns where value count is same so lets make some analysis."
   ]
  },
  {
   "cell_type": "code",
   "execution_count": 134,
   "id": "4bf44ec3",
   "metadata": {},
   "outputs": [
    {
     "data": {
      "text/html": [
       "<div>\n",
       "<style scoped>\n",
       "    .dataframe tbody tr th:only-of-type {\n",
       "        vertical-align: middle;\n",
       "    }\n",
       "\n",
       "    .dataframe tbody tr th {\n",
       "        vertical-align: top;\n",
       "    }\n",
       "\n",
       "    .dataframe thead th {\n",
       "        text-align: right;\n",
       "    }\n",
       "</style>\n",
       "<table border=\"1\" class=\"dataframe\">\n",
       "  <thead>\n",
       "    <tr style=\"text-align: right;\">\n",
       "      <th></th>\n",
       "      <th>Professional</th>\n",
       "      <th>HaveWorkedLanguage</th>\n",
       "      <th>max</th>\n",
       "    </tr>\n",
       "  </thead>\n",
       "  <tbody>\n",
       "    <tr>\n",
       "      <th>0</th>\n",
       "      <td>None of these</td>\n",
       "      <td>Assembly</td>\n",
       "      <td>5.0</td>\n",
       "    </tr>\n",
       "    <tr>\n",
       "      <th>1</th>\n",
       "      <td>None of these</td>\n",
       "      <td>Assembly; C</td>\n",
       "      <td>7.0</td>\n",
       "    </tr>\n",
       "    <tr>\n",
       "      <th>2</th>\n",
       "      <td>None of these</td>\n",
       "      <td>Assembly; C++; C#; Java; Lua</td>\n",
       "      <td>3.0</td>\n",
       "    </tr>\n",
       "    <tr>\n",
       "      <th>3</th>\n",
       "      <td>None of these</td>\n",
       "      <td>Assembly; C++; C#; Java; Matlab; Python</td>\n",
       "      <td>7.0</td>\n",
       "    </tr>\n",
       "    <tr>\n",
       "      <th>4</th>\n",
       "      <td>None of these</td>\n",
       "      <td>Assembly; C++; Common Lisp; Elixir; Java; Java...</td>\n",
       "      <td>4.0</td>\n",
       "    </tr>\n",
       "    <tr>\n",
       "      <th>...</th>\n",
       "      <td>...</td>\n",
       "      <td>...</td>\n",
       "      <td>...</td>\n",
       "    </tr>\n",
       "    <tr>\n",
       "      <th>9822</th>\n",
       "      <td>Used to be a professional developer</td>\n",
       "      <td>SQL; VBA; Visual Basic 6</td>\n",
       "      <td>8.0</td>\n",
       "    </tr>\n",
       "    <tr>\n",
       "      <th>9823</th>\n",
       "      <td>Used to be a professional developer</td>\n",
       "      <td>Smalltalk</td>\n",
       "      <td>9.0</td>\n",
       "    </tr>\n",
       "    <tr>\n",
       "      <th>9824</th>\n",
       "      <td>Used to be a professional developer</td>\n",
       "      <td>Swift</td>\n",
       "      <td>9.0</td>\n",
       "    </tr>\n",
       "    <tr>\n",
       "      <th>9825</th>\n",
       "      <td>Used to be a professional developer</td>\n",
       "      <td>Swift; VB.NET</td>\n",
       "      <td>8.0</td>\n",
       "    </tr>\n",
       "    <tr>\n",
       "      <th>9826</th>\n",
       "      <td>Used to be a professional developer</td>\n",
       "      <td>VB.NET</td>\n",
       "      <td>7.0</td>\n",
       "    </tr>\n",
       "  </tbody>\n",
       "</table>\n",
       "<p>9827 rows × 3 columns</p>\n",
       "</div>"
      ],
      "text/plain": [
       "                             Professional  \\\n",
       "0                           None of these   \n",
       "1                           None of these   \n",
       "2                           None of these   \n",
       "3                           None of these   \n",
       "4                           None of these   \n",
       "...                                   ...   \n",
       "9822  Used to be a professional developer   \n",
       "9823  Used to be a professional developer   \n",
       "9824  Used to be a professional developer   \n",
       "9825  Used to be a professional developer   \n",
       "9826  Used to be a professional developer   \n",
       "\n",
       "                                     HaveWorkedLanguage  max  \n",
       "0                                              Assembly  5.0  \n",
       "1                                           Assembly; C  7.0  \n",
       "2                          Assembly; C++; C#; Java; Lua  3.0  \n",
       "3               Assembly; C++; C#; Java; Matlab; Python  7.0  \n",
       "4     Assembly; C++; Common Lisp; Elixir; Java; Java...  4.0  \n",
       "...                                                 ...  ...  \n",
       "9822                           SQL; VBA; Visual Basic 6  8.0  \n",
       "9823                                          Smalltalk  9.0  \n",
       "9824                                              Swift  9.0  \n",
       "9825                                      Swift; VB.NET  8.0  \n",
       "9826                                             VB.NET  7.0  \n",
       "\n",
       "[9827 rows x 3 columns]"
      ]
     },
     "execution_count": 134,
     "metadata": {},
     "output_type": "execute_result"
    }
   ],
   "source": [
    "grouped_multiple = df_2_skill_subset_lang.groupby(['Professional', 'HaveWorkedLanguage']).agg({'CareerSatisfaction': ['max']})\n",
    "grouped_multiple.columns = ['max']\n",
    "grouped_multiple = grouped_multiple.reset_index()\n",
    "grouped_multiple"
   ]
  },
  {
   "cell_type": "markdown",
   "id": "40dc9cac",
   "metadata": {},
   "source": [
    "#### We thought to have group by data based on Professional and WorkedLanguage along with CareerSatisfaction rating but it seems WorkedLanguage has huge number of distinct values which created many permuation & combinations. So lets dig down distinct values into WorkedLanguage and how significant those values are."
   ]
  },
  {
   "cell_type": "code",
   "execution_count": 135,
   "id": "7102e3bb",
   "metadata": {},
   "outputs": [
    {
     "data": {
      "text/plain": [
       "['Swift',\n",
       " 'JavaScript; Python; Ruby; SQL',\n",
       " 'Java; PHP; Python',\n",
       " 'Matlab; Python; R; SQL',\n",
       " 'JavaScript; PHP; Rust',\n",
       " 'Matlab; Python',\n",
       " 'CoffeeScript; Clojure; Elixir; Erlang; Haskell; JavaScript; Python; Ruby',\n",
       " 'C#; JavaScript',\n",
       " 'Objective-C; Swift',\n",
       " 'R; SQL',\n",
       " 'Java; JavaScript; Ruby; SQL',\n",
       " 'Assembly; C; C++',\n",
       " 'JavaScript; VB.NET',\n",
       " 'JavaScript',\n",
       " 'C; Clojure; JavaScript; Matlab; Rust; SQL; Swift',\n",
       " 'Perl; Python',\n",
       " 'C#; JavaScript; SQL',\n",
       " 'Java',\n",
       " 'PHP; SQL',\n",
       " 'Java; Scala',\n",
       " 'Java; JavaScript; Objective-C; Python; Swift',\n",
       " 'JavaScript; Python',\n",
       " 'C#; Java',\n",
       " 'Assembly; C',\n",
       " 'C#; JavaScript; Matlab; Python; R',\n",
       " 'C#; F#; JavaScript; SQL',\n",
       " 'C#; Java; JavaScript',\n",
       " 'C#; JavaScript; SQL; TypeScript',\n",
       " 'C; C++; JavaScript; Lua; Python',\n",
       " 'Java; JavaScript; SQL',\n",
       " 'Java; JavaScript; SQL; VBA',\n",
       " 'C++; C#; Java; JavaScript; Lua; SQL',\n",
       " 'JavaScript; Ruby',\n",
       " 'C#; Java; SQL',\n",
       " 'Assembly; C++; Groovy; Java; Perl; SQL',\n",
       " 'Java; JavaScript; PHP; Ruby',\n",
       " 'Java; JavaScript',\n",
       " 'Java; JavaScript; PHP',\n",
       " 'C#',\n",
       " 'Go; Java',\n",
       " 'PHP',\n",
       " 'C; C++; C#; Java; JavaScript; Matlab; SQL',\n",
       " 'C++; C#; Objective-C',\n",
       " 'C; C++; Python; SQL',\n",
       " 'CoffeeScript; JavaScript; Ruby; SQL',\n",
       " 'CoffeeScript; JavaScript; Ruby',\n",
       " 'JavaScript; PHP; Python; SQL',\n",
       " 'Assembly; C; C++; Java; JavaScript; Perl; Python; Ruby; SQL; TypeScript',\n",
       " 'Java; SQL',\n",
       " 'C++; C#; JavaScript; SQL',\n",
       " 'C; C++; Java; JavaScript',\n",
       " 'Java; PHP; Python; Ruby; SQL',\n",
       " 'JavaScript; Scala',\n",
       " 'CoffeeScript; Haskell; JavaScript; Python; SQL',\n",
       " 'C; C#; SQL',\n",
       " 'JavaScript; Ruby; Smalltalk',\n",
       " 'C#; JavaScript; SQL; VB.NET; Visual Basic 6',\n",
       " 'C#; JavaScript; TypeScript',\n",
       " 'C; Go; Objective-C; Ruby; Swift',\n",
       " 'C++; C#',\n",
       " 'Python',\n",
       " 'Java; VB.NET; Visual Basic 6',\n",
       " 'C; C#; Common Lisp; Clojure; Java; JavaScript; PHP; Python; SQL',\n",
       " 'C#; Go; SQL',\n",
       " 'C; Python',\n",
       " 'C; C++; JavaScript; Perl',\n",
       " 'VB.NET',\n",
       " 'CoffeeScript; JavaScript; Objective-C; PHP; Python; Ruby; SQL; Swift',\n",
       " 'C#; Java; JavaScript; Python; SQL; TypeScript',\n",
       " 'C#; JavaScript; PHP; SQL',\n",
       " 'C#; SQL',\n",
       " 'Java; JavaScript; Lua; PHP; R; SQL',\n",
       " 'C++; C#; Java',\n",
       " 'C#; Java; JavaScript; Python; SQL',\n",
       " 'C#; JavaScript; Matlab; PHP; SQL',\n",
       " 'C++',\n",
       " 'C++; Java; JavaScript; Matlab; Objective-C; Python; SQL',\n",
       " 'Ruby',\n",
       " 'C; C#; JavaScript',\n",
       " 'C++; C#; F#; Haskell; Python; SQL',\n",
       " 'SQL',\n",
       " 'C; C++; C#; F#; Haskell; Java; Swift',\n",
       " 'Matlab; VBA',\n",
       " 'Java; JavaScript; Perl; SQL',\n",
       " 'Java; JavaScript; TypeScript',\n",
       " 'JavaScript; PHP; Ruby; SQL',\n",
       " 'C; C++; Python',\n",
       " 'C#; Java; JavaScript; Python; Ruby; Scala; SQL',\n",
       " 'Go; JavaScript',\n",
       " 'C#; Java; JavaScript; Python; Scala; SQL; TypeScript',\n",
       " 'JavaScript; PHP; SQL',\n",
       " 'Java; JavaScript; Perl; PHP; Python; SQL',\n",
       " 'Go; JavaScript; SQL',\n",
       " 'Elixir; Java; JavaScript; PHP; SQL',\n",
       " 'Common Lisp; Java; JavaScript',\n",
       " 'C; C#; JavaScript; Python; SQL',\n",
       " 'C#; Objective-C; Swift',\n",
       " 'C#; Java; JavaScript; PHP; Ruby; SQL; Swift',\n",
       " 'C; Java; JavaScript; PHP; Python',\n",
       " 'JavaScript; TypeScript',\n",
       " 'C++; C#; Perl',\n",
       " 'CoffeeScript; JavaScript; PHP; SQL',\n",
       " 'C#; F#; Go; JavaScript; Scala; SQL; VBA',\n",
       " 'Java; JavaScript; Python; SQL',\n",
       " 'CoffeeScript; Elixir; JavaScript; Ruby; SQL',\n",
       " 'C++; Java; JavaScript',\n",
       " 'C++; Java; Objective-C; Perl; Python',\n",
       " 'Groovy; Java; JavaScript; SQL',\n",
       " 'C; Java; JavaScript; Perl; Python; SQL',\n",
       " 'C#; Java; JavaScript; Perl; Python; SQL',\n",
       " 'C#; JavaScript; SQL; VBA',\n",
       " 'CoffeeScript; JavaScript; Python',\n",
       " 'C#; JavaScript; Python; SQL',\n",
       " 'Java; JavaScript; Python; Scala; Swift',\n",
       " 'Go; Java; JavaScript; Python; Ruby; Rust; SQL; TypeScript',\n",
       " 'C#; Dart; JavaScript',\n",
       " 'C; VB.NET',\n",
       " 'C++; Matlab; Python; R; VBA',\n",
       " 'Assembly; C; C++; Common Lisp; Java; JavaScript; Perl; Python; SQL',\n",
       " 'C#; Java; JavaScript; Perl; SQL',\n",
       " 'C; C++; Java; JavaScript; PHP; Python; SQL',\n",
       " 'JavaScript; Python; SQL',\n",
       " 'Java; Lua; Python',\n",
       " 'Assembly; C; C++; JavaScript',\n",
       " 'Assembly; C; C++; C#; SQL; Swift',\n",
       " 'C; C++; C#; CoffeeScript; Haskell; JavaScript; Python; Ruby; Rust; SQL; TypeScript',\n",
       " 'Assembly; C; C++; C#; Go; Java; JavaScript; Lua; Python; Rust',\n",
       " 'C++; C#; Java; JavaScript; Lua; PHP; Python; SQL; VB.NET',\n",
       " 'C++; Objective-C',\n",
       " 'JavaScript; SQL; TypeScript',\n",
       " 'C++; Python',\n",
       " 'Go; Groovy; Java; JavaScript; Python; Ruby; Scala; SQL',\n",
       " 'Java; PHP',\n",
       " 'Java; JavaScript; PHP; Python',\n",
       " 'C#; Java; JavaScript; SQL',\n",
       " 'C; C++; JavaScript; Python',\n",
       " 'Java; JavaScript; PHP; Python; SQL',\n",
       " 'Objective-C; Python; Ruby; SQL; Swift',\n",
       " 'C#; CoffeeScript; JavaScript; PHP; SQL; TypeScript',\n",
       " 'Assembly; C; C++; C#; Java; Matlab; Python',\n",
       " 'C#; Java; JavaScript; VB.NET',\n",
       " 'Python; R; Ruby; SQL',\n",
       " 'C; Java; JavaScript; Lua; PHP; SQL; VBA; Visual Basic 6',\n",
       " 'JavaScript; PHP',\n",
       " 'C#; JavaScript; Ruby; SQL',\n",
       " 'JavaScript; PHP; Python',\n",
       " 'Scala',\n",
       " 'Assembly; C++; Matlab; Python',\n",
       " 'C#; JavaScript; PHP; SQL; TypeScript; VB.NET',\n",
       " 'Erlang; F#; Java',\n",
       " 'C#; Java; JavaScript; Objective-C; SQL',\n",
       " 'C; C++; C#; Python',\n",
       " 'Java; Matlab; Python; SQL',\n",
       " 'C#; Go; JavaScript; Lua; SQL; TypeScript',\n",
       " 'C++; JavaScript; Python; Ruby; Scala; SQL',\n",
       " 'C++; Objective-C; PHP; Swift',\n",
       " 'Go; Python; Ruby',\n",
       " 'C; C#; Groovy; Java; JavaScript; Ruby; Scala; SQL; TypeScript; VBA',\n",
       " 'Java; Python; R; SQL',\n",
       " 'CoffeeScript; Elixir; JavaScript; PHP; Python; Ruby; SQL; TypeScript',\n",
       " 'CoffeeScript; Java; JavaScript; Swift',\n",
       " 'C#; Java; JavaScript; SQL; TypeScript',\n",
       " 'C#; Java; JavaScript; Python; SQL; VBA',\n",
       " 'C++; Java; JavaScript; Python; TypeScript',\n",
       " 'Groovy; Java; Python; Scala; SQL',\n",
       " 'Java; JavaScript; Python',\n",
       " 'C++; C#; Rust; SQL',\n",
       " 'C; C++; Java; JavaScript; Objective-C; PHP; Scala; SQL; Swift',\n",
       " 'C; C++; C#; Go; JavaScript; TypeScript',\n",
       " 'C#; F#',\n",
       " 'C; Common Lisp; JavaScript; PHP; Python; SQL',\n",
       " 'C#; JavaScript; Python',\n",
       " 'CoffeeScript; Haskell; Java; JavaScript; Ruby; Scala; SQL',\n",
       " 'C#; JavaScript; PHP; Python; SQL; VB.NET',\n",
       " 'C#; Java; Python; SQL',\n",
       " 'C; C++; Java; JavaScript; TypeScript',\n",
       " 'C#; JavaScript; Perl; Swift',\n",
       " 'Java; JavaScript; PHP; SQL; VBA; Visual Basic 6',\n",
       " 'C++; C#; F#; JavaScript; SQL',\n",
       " 'C; C++; SQL',\n",
       " 'Objective-C; Python',\n",
       " 'JavaScript; Perl',\n",
       " 'C++; C#; SQL',\n",
       " 'C#; Python; SQL',\n",
       " 'Groovy; PHP',\n",
       " 'C; C#; PHP; SQL',\n",
       " 'Assembly; C; C++; JavaScript; Matlab; Python',\n",
       " 'C#; SQL; Visual Basic 6',\n",
       " 'C; JavaScript; SQL',\n",
       " 'C; C++; Lua',\n",
       " 'Assembly; C; Java; Matlab; Python',\n",
       " 'Assembly; C; C++; Java; Objective-C; PHP; Python; SQL',\n",
       " 'C++; JavaScript; Python',\n",
       " 'C++; Haskell; Python',\n",
       " 'Assembly; C; C++; C#; Java; JavaScript; PHP; Python; Scala; SQL',\n",
       " 'C; C++; C#',\n",
       " 'C; C++; C#; Java; Lua; Python; SQL',\n",
       " 'Go',\n",
       " 'Assembly; C#; Java; Python; Ruby',\n",
       " 'C; C++; Java; Python',\n",
       " 'Java; JavaScript; Matlab; PHP; SQL; VB.NET; VBA; Visual Basic 6',\n",
       " 'C#; JavaScript; SQL; TypeScript; VB.NET; VBA',\n",
       " 'Java; Python',\n",
       " 'C#; SQL; TypeScript',\n",
       " 'C#; Java; Matlab; PHP; Python; SQL; VB.NET; VBA; Visual Basic 6',\n",
       " 'C#; Matlab; Python',\n",
       " 'C; C++; PHP; SQL',\n",
       " 'C++; C#; Java; JavaScript; Python; SQL',\n",
       " 'C#; Java; JavaScript; Objective-C; Swift',\n",
       " 'C++; Python; R',\n",
       " 'Java; JavaScript; PHP; Python; TypeScript',\n",
       " 'C; C++; C#; Java; JavaScript; Matlab; Objective-C; PHP; Python; SQL; Swift',\n",
       " 'C#; JavaScript; PHP; SQL; Swift; TypeScript',\n",
       " 'C; C++; Java; Perl; Python; Swift',\n",
       " 'Clojure; Python; R; Scala; SQL',\n",
       " 'C#; Python; Ruby; SQL',\n",
       " 'C; Swift',\n",
       " 'C#; CoffeeScript; Java; JavaScript; Objective-C; Python; R; Rust; Swift',\n",
       " 'Java; JavaScript; Perl; Scala',\n",
       " 'C; C++; C#; Java; JavaScript; Objective-C; SQL; Swift; TypeScript',\n",
       " 'C; C#; JavaScript; SQL',\n",
       " 'JavaScript; SQL',\n",
       " 'C#; JavaScript; SQL; VB.NET',\n",
       " 'Clojure',\n",
       " 'C; C++; JavaScript; SQL',\n",
       " 'JavaScript; PHP; Ruby',\n",
       " 'SQL; VB.NET',\n",
       " 'Python; SQL',\n",
       " 'Elixir; JavaScript; PHP; Python; Ruby',\n",
       " 'JavaScript; PHP; SQL; VBA',\n",
       " 'C#; JavaScript; Ruby; SQL; TypeScript',\n",
       " 'Clojure; Python; VBA',\n",
       " 'Java; TypeScript',\n",
       " 'C#; JavaScript; Python; SQL; TypeScript',\n",
       " 'C++; Java; Python',\n",
       " 'Assembly; C; C++; Objective-C; Python; Swift',\n",
       " 'C; C++; Objective-C; VBA',\n",
       " 'Java; JavaScript; Lua; SQL',\n",
       " 'C; C#',\n",
       " 'Java; JavaScript; Scala',\n",
       " 'Assembly; C++; C#; F#; Java; JavaScript; PHP; SQL; TypeScript; VB.NET; VBA; Visual Basic 6',\n",
       " 'C#; JavaScript; Perl; Ruby; SQL',\n",
       " 'Clojure; JavaScript; Ruby',\n",
       " 'C++; Java; JavaScript; Matlab; Python; SQL',\n",
       " 'Assembly; C; C++; Python',\n",
       " 'Java; JavaScript; Matlab; SQL',\n",
       " 'C; C++; C#; JavaScript; PHP; Python; SQL; VBA; Visual Basic 6',\n",
       " 'CoffeeScript; Java; JavaScript; Perl; PHP; Ruby',\n",
       " 'C++; C#; PHP; SQL',\n",
       " 'C; C++; CoffeeScript; Common Lisp; JavaScript; Objective-C; PHP; Python; Ruby; Swift; TypeScript',\n",
       " 'C#; SQL; VB.NET',\n",
       " 'C#; F#; JavaScript; SQL; TypeScript',\n",
       " 'Java; Python; Ruby; SQL',\n",
       " 'C++; Matlab; Python',\n",
       " 'C#; F#; JavaScript; PHP; SQL',\n",
       " 'PHP; Python',\n",
       " 'C++; C#; Go; Java; JavaScript; Python; Ruby; SQL',\n",
       " 'C; C++; C#; Clojure; JavaScript; SQL; TypeScript',\n",
       " 'C++; JavaScript; PHP; Python; SQL',\n",
       " 'C++; Java; JavaScript; Matlab; PHP; Python; SQL',\n",
       " 'Ruby; SQL',\n",
       " 'C; C++',\n",
       " 'C; C++; C#; JavaScript; Lua; Objective-C; Python; SQL; TypeScript',\n",
       " 'C; C#; Java; JavaScript; Python; SQL; VB.NET',\n",
       " 'C++; Perl; Python',\n",
       " 'C; C++; Python; Ruby',\n",
       " 'CoffeeScript; JavaScript; Ruby; SQL; Swift',\n",
       " 'Clojure; Java; Lua; Rust',\n",
       " 'C#; Python; R; SQL; VBA',\n",
       " 'C++; Swift',\n",
       " 'CoffeeScript; JavaScript; PHP; Python; Ruby',\n",
       " 'C++; Groovy; Java; Python; Ruby; Scala; SQL',\n",
       " 'Objective-C; Ruby; Swift',\n",
       " 'Groovy; Java; JavaScript; Objective-C; Perl',\n",
       " 'C; C++; Python; R',\n",
       " 'C; Java; JavaScript; PHP; SQL',\n",
       " 'C; JavaScript',\n",
       " 'Erlang; JavaScript; Scala',\n",
       " 'C#; JavaScript; Python; TypeScript',\n",
       " 'Go; JavaScript; PHP; SQL',\n",
       " 'Java; JavaScript; PHP; Scala; SQL',\n",
       " 'C#; F#; SQL',\n",
       " 'C',\n",
       " 'Elixir; Go; Java; Python; Ruby; Scala',\n",
       " 'Java; JavaScript; Matlab',\n",
       " 'C++; Python; SQL',\n",
       " 'CoffeeScript; JavaScript; SQL',\n",
       " 'C++; Java; JavaScript; PHP; SQL',\n",
       " 'JavaScript; Python; Ruby; VB.NET',\n",
       " 'C++; C#; CoffeeScript; Go; JavaScript; Ruby; SQL; TypeScript',\n",
       " 'Assembly; C; C++; Go; JavaScript; Perl; PHP; SQL; TypeScript',\n",
       " 'C#; JavaScript; PHP; SQL; VB.NET',\n",
       " 'C#; R; SQL',\n",
       " 'Java; JavaScript; Matlab; R; SQL',\n",
       " 'C#; Go; Java; JavaScript; Python; Scala',\n",
       " 'Clojure; Groovy; Java; Scala',\n",
       " 'Go; JavaScript; Python; SQL; TypeScript',\n",
       " 'CoffeeScript; JavaScript; PHP; Ruby; SQL',\n",
       " 'C#; Java; Python; Scala',\n",
       " 'C#; Python; R; Scala; SQL',\n",
       " 'Elixir; Java; Python; SQL',\n",
       " 'Java; JavaScript; Python; R; SQL',\n",
       " 'CoffeeScript; Java; JavaScript; PHP; Swift',\n",
       " 'C; JavaScript; Objective-C; Swift',\n",
       " 'C#; JavaScript; Python; TypeScript; VB.NET; Visual Basic 6',\n",
       " 'C++; C#; JavaScript; VB.NET',\n",
       " 'JavaScript; Python; R; SQL',\n",
       " 'C#; JavaScript; PHP; SQL; TypeScript',\n",
       " 'JavaScript; SQL; VBA',\n",
       " 'JavaScript; Python; SQL; VB.NET',\n",
       " 'Assembly; C; CoffeeScript; Java; JavaScript',\n",
       " 'Java; Python; SQL',\n",
       " 'Java; PHP; Python; SQL',\n",
       " 'C#; JavaScript; Scala; SQL',\n",
       " 'C; Java; Ruby; SQL',\n",
       " 'Groovy; Java; JavaScript',\n",
       " 'C; C++; C#; JavaScript; PHP; SQL',\n",
       " 'C#; Go; Lua; TypeScript',\n",
       " 'C++; Java; Ruby',\n",
       " 'JavaScript; Python; Ruby',\n",
       " 'CoffeeScript; JavaScript; Rust',\n",
       " 'Java; JavaScript; Ruby',\n",
       " 'JavaScript; Python; TypeScript',\n",
       " 'Elixir; Objective-C; Ruby; Swift',\n",
       " 'C; C#; JavaScript; TypeScript',\n",
       " 'C; C++; C#; Java; JavaScript; PHP; Python; SQL',\n",
       " 'C++; C#; JavaScript; Perl; Python; SQL',\n",
       " 'Assembly; C; C++; C#; Common Lisp; Go; Haskell; Java; Rust',\n",
       " 'Assembly; C; C++; C#; Python',\n",
       " 'C; C++; PHP; Python; SQL',\n",
       " 'Assembly; C; C++; C#; Java; JavaScript; Lua; PHP; SQL; VB.NET; VBA; Visual Basic 6',\n",
       " 'C++; Common Lisp; Java; Python; Scala',\n",
       " 'C; PHP; Python; VB.NET; Visual Basic 6',\n",
       " 'C; Groovy; Java; JavaScript; Python',\n",
       " 'C#; Java; Perl; SQL; VBA',\n",
       " 'C#; Java; JavaScript; SQL; VB.NET; VBA; Visual Basic 6',\n",
       " 'Java; JavaScript; Objective-C; SQL',\n",
       " 'Go; Objective-C',\n",
       " 'Java; Matlab; SQL',\n",
       " 'C; C++; C#; Dart; Go; Java; JavaScript; Objective-C; Python; SQL; Swift',\n",
       " 'C#; Common Lisp; JavaScript; SQL; Swift',\n",
       " 'C#; Java; JavaScript; Ruby; SQL',\n",
       " 'Java; JavaScript; Objective-C; Ruby',\n",
       " 'Java; JavaScript; Lua; PHP; Python; Ruby; SQL; TypeScript',\n",
       " 'C#; Java; JavaScript; PHP; SQL; TypeScript',\n",
       " 'Rust',\n",
       " 'C; C++; C#; Java; JavaScript; Perl; PHP; Python; Swift',\n",
       " 'JavaScript; Perl; PHP; Python',\n",
       " 'C; C++; JavaScript; PHP; SQL',\n",
       " 'C; C++; C#; Python; Ruby',\n",
       " 'C; C++; JavaScript; Objective-C; PHP',\n",
       " 'C#; CoffeeScript; JavaScript',\n",
       " 'C; C++; Java; JavaScript; Python',\n",
       " 'Assembly; C; C++; C#; JavaScript; PHP; TypeScript; VB.NET',\n",
       " 'C; Matlab; Python',\n",
       " 'Assembly; C; C++; Java; JavaScript; PHP; SQL; VBA',\n",
       " 'C#; JavaScript; Objective-C; SQL; Swift; VB.NET',\n",
       " 'C; C#; Java',\n",
       " 'Clojure; Java; PHP; Python; Scala; SQL',\n",
       " 'Java; JavaScript; PHP; SQL',\n",
       " 'CoffeeScript; Java; JavaScript; PHP; SQL',\n",
       " 'Assembly; C; C++; Java; JavaScript; Perl; PHP; Python; SQL',\n",
       " 'C; C#; Python; R; Ruby; SQL; VBA',\n",
       " 'C#; JavaScript; R; Ruby; Scala; SQL',\n",
       " 'C; C++; R',\n",
       " 'C; Groovy; Java; JavaScript; Perl; Python; Scala; SQL',\n",
       " 'C; C++; C#; JavaScript; PHP; Python',\n",
       " 'C; C++; Java; JavaScript; PHP; Python',\n",
       " 'Groovy; Ruby; SQL',\n",
       " 'C; JavaScript; Lua; SQL',\n",
       " 'C#; JavaScript; PHP; Python; SQL',\n",
       " 'C#; JavaScript; SQL; TypeScript; VB.NET',\n",
       " 'Assembly; C; C++; Haskell; JavaScript; Rust',\n",
       " 'Go; Groovy; Java',\n",
       " 'C#; JavaScript; PHP',\n",
       " 'Assembly; C; Common Lisp',\n",
       " 'Elixir; Java; JavaScript; Ruby; Rust; SQL',\n",
       " 'C++; Common Lisp; Python',\n",
       " 'Elixir; JavaScript; PHP',\n",
       " 'Assembly; C; C++; Common Lisp; Clojure; Erlang; Go; Haskell; Java; JavaScript; Python; R',\n",
       " 'C; C#; Visual Basic 6',\n",
       " 'C++; JavaScript; PHP; SQL',\n",
       " 'Assembly; C; C++; Java; Matlab; Python',\n",
       " 'Go; JavaScript; PHP; Python; Ruby; SQL',\n",
       " 'C; C++; C#; Java; JavaScript; Matlab; Perl; PHP; Python; SQL',\n",
       " 'C++; Java',\n",
       " 'R; SQL; VBA',\n",
       " 'Java; JavaScript; Ruby; Scala',\n",
       " 'Assembly; C; C++; C#; Java; Python',\n",
       " 'C#; JavaScript; Python; SQL; TypeScript; VB.NET',\n",
       " 'C#; Java; SQL; VB.NET',\n",
       " 'C; C++; C#; Erlang; Go; Java; Rust; SQL; TypeScript',\n",
       " 'Java; Matlab; Python; R',\n",
       " 'C; C++; Perl; SQL',\n",
       " 'C#; Java; JavaScript; TypeScript',\n",
       " 'C; C#; Python; Ruby',\n",
       " 'C; C++; Java; Perl; Python; SQL',\n",
       " 'Java; Python; R',\n",
       " 'C; CoffeeScript; JavaScript; Julia; Python',\n",
       " 'Java; JavaScript; Lua; Ruby; SQL',\n",
       " 'Groovy; Java; JavaScript; TypeScript',\n",
       " 'C++; C#; Java; JavaScript; Lua',\n",
       " 'Haskell; PHP',\n",
       " 'JavaScript; Objective-C; PHP; SQL; Swift',\n",
       " 'C#; Java; JavaScript; PHP; Python; SQL; TypeScript',\n",
       " 'C#; JavaScript; Lua; Python; R; SQL',\n",
       " 'C; C++; Haskell; Java; JavaScript; Python; SQL',\n",
       " 'Haskell; Java; JavaScript; Matlab; Perl; PHP; Python; SQL',\n",
       " 'Java; Ruby; Scala',\n",
       " 'JavaScript; Objective-C; Swift',\n",
       " 'CoffeeScript; JavaScript; Python; Ruby; SQL',\n",
       " 'C++; C#; Java; JavaScript; PHP; Python; SQL; VB.NET',\n",
       " 'JavaScript; PHP; Python; Ruby; SQL',\n",
       " 'Java; Objective-C; Python; Swift',\n",
       " 'Java; Python; Scala; SQL',\n",
       " 'Java; JavaScript; PHP; Python; Ruby',\n",
       " 'Elixir; Go; JavaScript; PHP; Rust; SQL',\n",
       " 'Java; JavaScript; Lua; Python; SQL',\n",
       " 'JavaScript; Perl; Python; SQL',\n",
       " 'Assembly; Java; JavaScript; SQL; TypeScript',\n",
       " 'Groovy; Java; SQL',\n",
       " 'Haskell; Scala; SQL',\n",
       " 'Java; JavaScript; Rust',\n",
       " 'C#; JavaScript; SQL; Visual Basic 6',\n",
       " 'JavaScript; Perl; PHP; Python; Scala',\n",
       " 'Go; Java; JavaScript',\n",
       " 'Java; Ruby',\n",
       " 'C#; JavaScript; SQL; Swift',\n",
       " 'C#; Go; Java; JavaScript; PHP; SQL; TypeScript',\n",
       " 'Java; JavaScript; PHP; Scala',\n",
       " 'C#; JavaScript; SQL; VB.NET; VBA',\n",
       " 'Python; R',\n",
       " 'C++; Java; JavaScript; PHP; SQL; TypeScript',\n",
       " 'C#; JavaScript; Python; SQL; VB.NET',\n",
       " 'Java; JavaScript; Python; Scala',\n",
       " 'C; Java; TypeScript',\n",
       " 'C; C++; C#; Go; Java; JavaScript; Python; SQL',\n",
       " 'Groovy; Java; Scala; SQL',\n",
       " 'Lua',\n",
       " 'PHP; SQL; VB.NET',\n",
       " 'C#; JavaScript; Python; R; SQL',\n",
       " 'C; PHP; SQL',\n",
       " 'C#; F#; SQL; TypeScript',\n",
       " 'C; Java; SQL',\n",
       " 'JavaScript; SQL; VB.NET',\n",
       " 'Assembly; C; C++; C#; SQL',\n",
       " 'C; Lua; Python',\n",
       " 'C#; JavaScript; Perl; R; SQL',\n",
       " 'C++; Java; Python; R',\n",
       " 'SQL; VBA',\n",
       " 'C#; Python',\n",
       " 'C++; Java; Lua; Scala',\n",
       " 'Java; Matlab; Swift',\n",
       " 'C++; C#; Java; JavaScript; PHP; SQL; Swift',\n",
       " 'C; CoffeeScript; Elixir; JavaScript; Ruby; SQL; Swift',\n",
       " 'Clojure; Go; Groovy; Java; JavaScript; Matlab; PHP; Python; R; Ruby; Scala; SQL; TypeScript',\n",
       " 'JavaScript; Perl; PHP; SQL',\n",
       " 'C++; C#; JavaScript; PHP; SQL',\n",
       " 'C++; Java; JavaScript; SQL',\n",
       " 'Groovy; Java; JavaScript; Perl; Python; SQL',\n",
       " 'C#; Go; JavaScript; Python',\n",
       " 'JavaScript; Objective-C; Python',\n",
       " 'Assembly; C; CoffeeScript; Go; JavaScript; Python; Ruby; Scala',\n",
       " 'Matlab; Python; Ruby; SQL',\n",
       " 'Groovy; Java; JavaScript; PHP; Python; Ruby',\n",
       " 'Assembly; C; C++; C#; JavaScript; Python',\n",
       " 'C; Go; JavaScript; Python',\n",
       " 'C; C++; Java; Matlab; Swift',\n",
       " 'Go; Groovy; Java; Python',\n",
       " 'JavaScript; PHP; Python; Rust; SQL; Swift; TypeScript',\n",
       " 'C++; C#; JavaScript',\n",
       " 'Assembly; C; C++; C#; Java; Objective-C; Ruby; SQL; Swift',\n",
       " 'C; C#; Swift',\n",
       " 'Julia; Matlab; PHP; Python',\n",
       " 'C#; CoffeeScript; Java; JavaScript; Objective-C; PHP; Python; SQL',\n",
       " 'Java; JavaScript; Scala; SQL',\n",
       " 'C; Common Lisp; Java; Python; Scala; SQL',\n",
       " 'C++; C#; JavaScript; PHP; SQL; VB.NET',\n",
       " 'Assembly; C++; C#; Java; JavaScript; PHP; Python; SQL',\n",
       " 'C#; JavaScript; Ruby; SQL; VBA',\n",
       " 'C; Java; JavaScript; Objective-C; Python; Ruby; SQL; Swift',\n",
       " 'C#; Java; JavaScript; PHP; R; SQL; VBA',\n",
       " 'C; C++; Go; Objective-C; Python; SQL; Swift',\n",
       " 'C++; Java; SQL',\n",
       " 'C; Go; Java; JavaScript; PHP; Python; SQL; TypeScript',\n",
       " 'C#; Erlang; F#; JavaScript; Scala; TypeScript',\n",
       " 'C++; JavaScript; Python; SQL',\n",
       " 'C#; F#; JavaScript; PHP; SQL; TypeScript',\n",
       " 'C; C++; Java; JavaScript; Python; SQL',\n",
       " 'C; C++; Java; PHP; SQL',\n",
       " 'C; C++; C#; Java; JavaScript; PHP; SQL; Swift',\n",
       " 'C; C#; JavaScript; PHP; SQL',\n",
       " 'CoffeeScript; Clojure; Haskell; Java; JavaScript; Objective-C; Python; Ruby; Swift',\n",
       " 'Python; R; SQL',\n",
       " 'JavaScript; PHP; Python; R; Ruby; SQL',\n",
       " 'C; C#; Java; JavaScript; Objective-C; PHP; Python; SQL',\n",
       " 'C; C++; C#; SQL; VB.NET; VBA; Visual Basic 6',\n",
       " 'C; JavaScript; Python',\n",
       " 'C++; C#; Java; JavaScript; PHP; SQL; TypeScript',\n",
       " 'CoffeeScript; JavaScript; PHP; SQL; TypeScript',\n",
       " 'C++; Groovy; Java',\n",
       " 'Java; JavaScript; Python; Scala; SQL',\n",
       " 'C#; Java; Python; Swift',\n",
       " 'C#; JavaScript; Perl; PHP; TypeScript',\n",
       " 'Clojure; JavaScript; PHP',\n",
       " 'Assembly; C; C++; C#; Python; VB.NET',\n",
       " 'C; C++; C#; Java; Matlab; PHP; Python; SQL',\n",
       " 'JavaScript; PHP; Python; Smalltalk',\n",
       " 'C; C++; C#; JavaScript; SQL; TypeScript',\n",
       " 'C; C#; Julia; PHP; Python; SQL; VB.NET',\n",
       " 'C#; Java; Ruby; SQL',\n",
       " 'Assembly; C; C++; C#',\n",
       " 'Clojure; JavaScript',\n",
       " 'C#; Java; JavaScript; PHP; Ruby; SQL',\n",
       " 'JavaScript; PHP; Python; SQL; TypeScript',\n",
       " 'C; Java; JavaScript',\n",
       " 'C++; C#; CoffeeScript; JavaScript; PHP; Ruby; SQL; TypeScript',\n",
       " 'C; C++; Go; JavaScript; Python; Ruby; SQL',\n",
       " 'CoffeeScript; Java; JavaScript; SQL; Swift; TypeScript',\n",
       " 'C++; Java; JavaScript; Objective-C; Python; SQL',\n",
       " 'C#; Go; JavaScript; Perl; PHP; SQL',\n",
       " 'C; C#; JavaScript; PHP; Python; R; SQL; TypeScript',\n",
       " 'Java; Swift',\n",
       " 'C#; F#; JavaScript; Ruby; SQL',\n",
       " 'C#; F#; JavaScript; TypeScript',\n",
       " 'JavaScript; Objective-C; Python; SQL; TypeScript',\n",
       " 'Python; Ruby; SQL',\n",
       " 'JavaScript; SQL; VBA; Visual Basic 6',\n",
       " 'C; Groovy; Java; Python',\n",
       " 'C++; C#; Java; JavaScript; SQL',\n",
       " 'JavaScript; Perl; PHP; Python; SQL; TypeScript',\n",
       " 'C; C++; Matlab; Python',\n",
       " 'Dart; Erlang; Objective-C; SQL; Swift',\n",
       " 'Java; JavaScript; Objective-C; PHP; SQL',\n",
       " 'Go; JavaScript; Ruby; SQL',\n",
       " 'C; C++; C#; JavaScript; PHP; R; SQL',\n",
       " 'JavaScript; PHP; TypeScript',\n",
       " 'C++; C#; Java; JavaScript; Python',\n",
       " 'Python; SQL; VBA',\n",
       " 'Objective-C; SQL; Swift',\n",
       " 'C; C++; C#; JavaScript; SQL',\n",
       " 'C; C++; JavaScript; Ruby; Swift',\n",
       " 'C#; JavaScript; Ruby; SQL; VB.NET',\n",
       " 'C++; Go; JavaScript; Python; SQL',\n",
       " 'Dart; Java; JavaScript; Objective-C; Swift',\n",
       " 'Assembly; C; C++; C#; Java; JavaScript; Objective-C; Python; SQL',\n",
       " 'C#; Dart; Erlang; Go; Java; Objective-C; Swift',\n",
       " 'R',\n",
       " 'C++; JavaScript',\n",
       " 'C; C++; C#; Java; PHP; SQL',\n",
       " 'Haskell; Java; JavaScript; Python; Scala; SQL',\n",
       " 'Groovy; Perl; Python; R',\n",
       " 'C++; C#; JavaScript; Objective-C; Python; SQL; TypeScript',\n",
       " 'Assembly; C; Groovy; Java; Matlab; SQL',\n",
       " 'C#; CoffeeScript; Java; JavaScript; PHP; Ruby; SQL; Swift',\n",
       " 'C#; Elixir; F#; JavaScript; Matlab; Python; R; SQL; TypeScript',\n",
       " 'C#; VB.NET',\n",
       " 'C#; Python; R; SQL',\n",
       " 'Dart; Erlang; Objective-C; Python; R; Scala; SQL; Swift',\n",
       " 'Assembly; C; C#; Java; JavaScript; PHP; Python; SQL',\n",
       " 'C; C#; Java; JavaScript; Python; SQL',\n",
       " 'Java; JavaScript; PHP; SQL; Swift',\n",
       " 'JavaScript; Perl; PHP; Python; SQL',\n",
       " 'C#; VB.NET; VBA',\n",
       " 'C#; F#; Java; JavaScript; TypeScript',\n",
       " 'Assembly; C++; Go; Java; JavaScript; Matlab',\n",
       " 'Go; Java; JavaScript; Ruby; TypeScript',\n",
       " 'C#; Haskell; Python; Scala',\n",
       " 'C++; CoffeeScript; Java; JavaScript; PHP; SQL',\n",
       " 'C++; C#; Java; JavaScript; PHP; Python; SQL',\n",
       " 'Go; Python',\n",
       " 'C#; CoffeeScript; Java; JavaScript; Objective-C; Ruby; SQL; TypeScript',\n",
       " 'C; C++; Hack; PHP; Python',\n",
       " 'C++; JavaScript; Objective-C',\n",
       " 'C; C++; C#; Java; JavaScript; Perl; Python',\n",
       " 'C++; Groovy; Java; JavaScript; SQL',\n",
       " 'C#; Java; Python',\n",
       " 'Groovy; Java; JavaScript; Objective-C; Swift',\n",
       " 'Haskell; Java; JavaScript; Python; TypeScript',\n",
       " 'Groovy; Java; JavaScript; Ruby; SQL',\n",
       " 'C#; Haskell; Java; JavaScript; PHP; Python; SQL',\n",
       " 'C; C++; Go',\n",
       " 'Assembly; C; C++; Java; JavaScript; Lua; PHP; Python; SQL',\n",
       " 'C; C++; C#; Go; Haskell; Java; Ruby; SQL; TypeScript',\n",
       " 'C; C#; Java; SQL',\n",
       " 'PHP; SQL; Swift',\n",
       " 'C#; Ruby; SQL; VBA',\n",
       " 'C; JavaScript; PHP; Python; SQL',\n",
       " 'Assembly; C; Go; Java; Lua; Rust',\n",
       " 'C++; C#; Java; JavaScript; Lua; PHP; SQL',\n",
       " 'C#; Java; JavaScript; Python',\n",
       " 'C; C++; Common Lisp; Java; JavaScript; Python; Smalltalk; SQL',\n",
       " 'Java; JavaScript; PHP; Python; Ruby; SQL',\n",
       " 'C#; Java; JavaScript; PHP',\n",
       " 'C++; Dart; Java; JavaScript; Python; TypeScript',\n",
       " 'C#; JavaScript; SQL; VB.NET; VBA; Visual Basic 6',\n",
       " 'CoffeeScript; Groovy; Java; JavaScript; Python',\n",
       " 'C#; Objective-C; SQL; Swift',\n",
       " 'CoffeeScript; Hack; Java; JavaScript; Objective-C; PHP; Python; SQL; Swift; TypeScript',\n",
       " 'C; C++; Java; JavaScript; Lua; Python; R; SQL; VBA',\n",
       " 'Elixir; Erlang; JavaScript; SQL',\n",
       " 'C++; JavaScript; SQL; TypeScript',\n",
       " 'Java; JavaScript; Perl; Python; Scala; SQL',\n",
       " 'C; Haskell; Java',\n",
       " 'C++; C#; Python; SQL',\n",
       " 'C#; JavaScript; R; SQL',\n",
       " 'C++; Python; R; SQL',\n",
       " 'Clojure; Java; JavaScript; Lua; Python; SQL',\n",
       " 'C; Go; Lua; Python',\n",
       " 'C#; Go; Java; JavaScript; Ruby; SQL; VB.NET',\n",
       " 'C#; Java; JavaScript; SQL; VB.NET',\n",
       " 'C; C++; Groovy; Java; JavaScript; PHP; Ruby',\n",
       " 'C; PHP; SQL; VB.NET; VBA; Visual Basic 6',\n",
       " 'C++; C#; Java; JavaScript; Perl; PHP; Scala; SQL; VBA',\n",
       " 'C; C++; Python; R; Ruby',\n",
       " 'C#; Erlang; JavaScript; SQL; TypeScript',\n",
       " 'C#; CoffeeScript; Java; Scala; SQL',\n",
       " 'C++; C#; TypeScript',\n",
       " 'JavaScript; PHP; Python; SQL; Swift',\n",
       " 'C++; C#; Python; SQL; VB.NET; VBA',\n",
       " 'JavaScript; Ruby; SQL',\n",
       " 'Java; JavaScript; Objective-C; Ruby; Swift',\n",
       " 'C#; SQL; VB.NET; Visual Basic 6',\n",
       " 'Groovy; Java; JavaScript; Objective-C; SQL',\n",
       " 'C; C++; Go; Java; JavaScript; SQL',\n",
       " 'C#; F#; JavaScript; SQL; TypeScript; VB.NET',\n",
       " 'C; C++; Java; Objective-C; Ruby',\n",
       " 'Java; JavaScript; PHP; Python; Scala',\n",
       " 'Java; JavaScript; Perl',\n",
       " 'C; Java',\n",
       " 'Assembly; C; Python',\n",
       " 'C; C++; CoffeeScript; JavaScript',\n",
       " 'C#; CoffeeScript; JavaScript; R; SQL; TypeScript',\n",
       " 'Assembly; C; C#; JavaScript; PHP; Python',\n",
       " 'C++; C#; F#; Java; SQL',\n",
       " 'C++; Groovy; Java; JavaScript; Python; SQL',\n",
       " 'JavaScript; Objective-C; PHP; Ruby; TypeScript',\n",
       " 'C; C++; C#; JavaScript; PHP; Python; SQL; TypeScript',\n",
       " 'Groovy; Java; JavaScript; PHP; Python; SQL',\n",
       " 'Assembly; C; Go; Java; JavaScript; Python',\n",
       " 'C#; JavaScript; Python; Swift',\n",
       " 'C#; JavaScript; Ruby',\n",
       " 'Go; Matlab; Python; SQL',\n",
       " 'Java; JavaScript; Swift',\n",
       " 'Objective-C; Python; Ruby; Swift',\n",
       " 'C; C++; C#; Java; JavaScript; Matlab; PHP; Python; SQL',\n",
       " 'Assembly; C; Python; SQL',\n",
       " 'C#; JavaScript; Perl; SQL; VB.NET; VBA; Visual Basic 6',\n",
       " 'JavaScript; Perl; PHP',\n",
       " 'C; C++; Java; JavaScript; PHP; SQL; TypeScript',\n",
       " 'CoffeeScript; JavaScript; PHP; TypeScript',\n",
       " 'C++; C#; Go; Java; JavaScript; Matlab; Python; Rust; TypeScript',\n",
       " 'C++; Python; R; Scala',\n",
       " 'C#; JavaScript; PHP; Python',\n",
       " 'C#; SQL; Swift',\n",
       " 'C++; C#; PHP; Python',\n",
       " 'C; Python; Ruby',\n",
       " 'C++; Java; VB.NET',\n",
       " 'C++; Java; JavaScript; SQL; TypeScript',\n",
       " 'Elixir; JavaScript; Python',\n",
       " 'Perl',\n",
       " 'C; C++; C#; Go; JavaScript; PHP; SQL',\n",
       " 'PHP; VB.NET; VBA; Visual Basic 6',\n",
       " 'C; C++; C#; Java; JavaScript; SQL',\n",
       " 'C; C++; Go; Ruby; Scala',\n",
       " 'C#; JavaScript; Perl; SQL',\n",
       " 'C; C++; Objective-C; Swift',\n",
       " 'Assembly; C; C++; C#; Java; JavaScript; Python',\n",
       " 'C#; TypeScript',\n",
       " 'C; Objective-C; Python',\n",
       " 'C#; Haskell; Java; JavaScript; PHP; R; SQL; TypeScript',\n",
       " 'Java; Matlab; Python',\n",
       " 'C; C#; JavaScript; SQL; TypeScript',\n",
       " 'Groovy; JavaScript; PHP; SQL',\n",
       " 'Groovy; Java; JavaScript; R; SQL',\n",
       " 'C; C++; C#; SQL; VB.NET',\n",
       " 'JavaScript; Objective-C; Smalltalk',\n",
       " 'C#; CoffeeScript; F#; JavaScript; Ruby; SQL; TypeScript; VB.NET',\n",
       " 'C#; Java; JavaScript; PHP; Python; SQL',\n",
       " 'Java; JavaScript; R; Scala; SQL; Swift',\n",
       " 'JavaScript; Python; Scala; SQL',\n",
       " 'C; C++; C#; Groovy; Java; JavaScript; Julia; Python; SQL; VB.NET',\n",
       " 'Java; JavaScript; Python; TypeScript',\n",
       " 'C++; Java; Python; SQL',\n",
       " 'C; C#; Java; Scala; SQL; TypeScript',\n",
       " 'Groovy; Java; JavaScript; Ruby; Scala; SQL',\n",
       " 'Java; Python; R; Scala',\n",
       " 'C#; Erlang; F#; JavaScript; SQL',\n",
       " 'C; C++; C#; Java; JavaScript; PHP; Python; Ruby',\n",
       " 'C#; JavaScript; Python; SQL; VB.NET; VBA; Visual Basic 6',\n",
       " 'C#; Go; Java; Ruby',\n",
       " 'Assembly; C; C++; Groovy; Haskell; Java; JavaScript; Objective-C; Perl; Python; Ruby',\n",
       " 'C; C++; C#; Java',\n",
       " 'C; C++; C#; Java; JavaScript; Objective-C; SQL; Swift',\n",
       " 'C; JavaScript; PHP',\n",
       " 'C#; Matlab',\n",
       " 'Assembly; C; C++; Java; JavaScript; Perl; SQL',\n",
       " 'Assembly; C; C++; Common Lisp; Erlang; Java; Python; Ruby',\n",
       " 'Go; JavaScript; Python; SQL',\n",
       " 'C; C#; Go; Java; JavaScript; Python; R; Ruby; SQL',\n",
       " 'C; C++; C#; Java; Python',\n",
       " 'C++; Python; Rust',\n",
       " 'C; Objective-C; Swift',\n",
       " 'C#; F#; JavaScript; Python; SQL; TypeScript',\n",
       " 'CoffeeScript; JavaScript; Python; Swift',\n",
       " 'C#; JavaScript; Lua; PHP; Python; SQL',\n",
       " 'Go; JavaScript; Python',\n",
       " 'C#; CoffeeScript; Java; JavaScript; PHP; TypeScript',\n",
       " 'C; C++; JavaScript; Objective-C; PHP; Swift',\n",
       " 'C#; Groovy; JavaScript; SQL',\n",
       " 'C; C#; Haskell; Java; JavaScript; PHP; Rust; TypeScript',\n",
       " 'Assembly; C; C++; C#; Matlab; Python',\n",
       " 'Assembly; C; Java; PHP; SQL',\n",
       " 'C#; JavaScript; Python; Scala; SQL',\n",
       " 'C; C++; Java; JavaScript; Perl; PHP; SQL',\n",
       " 'C#; Objective-C; SQL; VB.NET',\n",
       " 'C#; JavaScript; Objective-C; SQL',\n",
       " 'C#; Java; JavaScript; Matlab; PHP; SQL',\n",
       " 'C#; JavaScript; Objective-C',\n",
       " 'C; JavaScript; Python; SQL',\n",
       " 'C; C++; Java; JavaScript; Perl; PHP; Python; SQL',\n",
       " 'C; C++; PHP',\n",
       " 'Assembly; C; C++; Objective-C; Perl; Python; Ruby',\n",
       " 'CoffeeScript; JavaScript; PHP; Ruby',\n",
       " 'Clojure; Go; Groovy; Haskell; Java; JavaScript; Ruby; Scala; SQL',\n",
       " 'Assembly; C; C++; C#; Java; JavaScript; Matlab; Python; R; Ruby; Swift',\n",
       " 'C#; Groovy; Java; JavaScript; PHP; Python; SQL',\n",
       " 'JavaScript; PHP; SQL; VB.NET; VBA',\n",
       " 'Java; JavaScript; Objective-C; Ruby; SQL',\n",
       " 'C++; Haskell; Java; JavaScript',\n",
       " 'JavaScript; Lua; Python',\n",
       " 'C#; CoffeeScript; JavaScript; SQL',\n",
       " 'Assembly; C; C++; C#; JavaScript; Matlab; Objective-C; Python; Swift',\n",
       " 'C; C++; C#; CoffeeScript; JavaScript; Python',\n",
       " 'CoffeeScript; JavaScript; Python; Ruby; SQL; TypeScript',\n",
       " 'Lua; PHP',\n",
       " 'C; C++; Objective-C; PHP; Swift',\n",
       " 'C++; C#; F#; JavaScript; Python',\n",
       " 'Clojure; Java; JavaScript; Python; Scala; Swift; TypeScript',\n",
       " 'C#; JavaScript; SQL; VBA; Visual Basic 6',\n",
       " 'Java; Python; TypeScript',\n",
       " 'C; Java; JavaScript; Python; Ruby; Rust',\n",
       " 'CoffeeScript; Groovy; Haskell; Java; JavaScript; Perl; Python; Ruby; SQL',\n",
       " 'Objective-C; PHP; SQL',\n",
       " 'C; C++; Java; JavaScript; Python; R; SQL',\n",
       " 'Assembly; C; C++; C#; Go; Java; JavaScript; Objective-C; Python; Scala; SQL; Swift',\n",
       " 'C++; Go; Java',\n",
       " 'Assembly; C; C++; Go; Haskell; Java; JavaScript; Lua; PHP; Python; SQL',\n",
       " 'Dart; Go; Java; Python',\n",
       " 'C; C++; C#; F#',\n",
       " 'CoffeeScript; Java; JavaScript; PHP; Ruby; SQL',\n",
       " 'C; C++; C#; JavaScript; PHP; Python; SQL',\n",
       " 'CoffeeScript; JavaScript',\n",
       " 'Java; Objective-C; Python',\n",
       " 'C#; JavaScript; Objective-C; SQL; TypeScript; VB.NET',\n",
       " 'PHP; Python; VBA; Visual Basic 6',\n",
       " 'Clojure; JavaScript; R; Rust; Swift',\n",
       " 'C; C++; Java; Objective-C; Python',\n",
       " 'C; Java; PHP; Python; R; SQL',\n",
       " 'C++; JavaScript; Lua; PHP; Python; Ruby',\n",
       " 'Java; JavaScript; Python; Ruby; Swift',\n",
       " 'C#; Dart; Java; JavaScript; Objective-C; SQL',\n",
       " 'Haskell; Java; JavaScript; PHP; SQL',\n",
       " 'Assembly; C++; C#; JavaScript; SQL; TypeScript',\n",
       " 'Assembly; C++; Java; JavaScript; Python; Swift',\n",
       " 'C; C++; C#; F#; JavaScript; Python',\n",
       " 'Go; Java; JavaScript; Python; SQL',\n",
       " 'VBA',\n",
       " 'C; C#; JavaScript; PHP; Python; SQL',\n",
       " 'JavaScript; Swift; VBA',\n",
       " 'C++; PHP; Python; SQL',\n",
       " 'C; C#; Haskell; JavaScript; PHP; Python; Rust; VB.NET',\n",
       " 'C++; Java; PHP',\n",
       " 'C; C++; Go; Haskell; Java; Python; Rust; Swift; TypeScript',\n",
       " 'C; Go; Groovy; Java; JavaScript; Scala',\n",
       " 'C; C++; C#; Java; JavaScript; Objective-C; PHP; Python; SQL',\n",
       " 'C; Matlab; SQL',\n",
       " 'C++; Java; PHP; Ruby; SQL',\n",
       " 'Assembly; C++; Java; Python',\n",
       " 'C; Java; Lua; Rust',\n",
       " 'Groovy; Java',\n",
       " 'Java; JavaScript; SQL; Swift',\n",
       " 'Java; JavaScript; Python; R',\n",
       " 'C#; Java; Objective-C; Swift',\n",
       " 'CoffeeScript; JavaScript; Objective-C; PHP; Python; Ruby; SQL',\n",
       " 'C#; Groovy; JavaScript; PHP; Python; Ruby; SQL; TypeScript',\n",
       " 'C; C++; Go; Objective-C; PHP; Python; Ruby; Rust; Swift',\n",
       " 'C++; C#; CoffeeScript; Java; JavaScript; SQL',\n",
       " 'C; C++; JavaScript; PHP',\n",
       " 'C; C++; C#; JavaScript',\n",
       " 'Go; Java; JavaScript; Python',\n",
       " 'C#; PHP; SQL',\n",
       " 'Java; JavaScript; PHP; Python; Ruby; SQL; Swift',\n",
       " 'Java; SQL; Swift',\n",
       " 'C#; CoffeeScript; SQL',\n",
       " 'JavaScript; Ruby; SQL; TypeScript',\n",
       " 'C; C++; Haskell; Java; JavaScript; Python',\n",
       " 'C; Java; JavaScript; Python; SQL',\n",
       " 'Groovy; Java; JavaScript; Swift',\n",
       " 'C++; C#; JavaScript; PHP; SQL; TypeScript',\n",
       " 'Assembly; C; C++; C#; Go; Objective-C; Rust; Swift',\n",
       " 'C#; Common Lisp; Java; Python',\n",
       " 'C++; Java; PHP; SQL',\n",
       " 'SQL; VB.NET; Visual Basic 6',\n",
       " 'Assembly; Java',\n",
       " 'Clojure; JavaScript; Objective-C; Swift',\n",
       " 'C++; C#; JavaScript; PHP; SQL; VB.NET; VBA',\n",
       " 'C#; VBA',\n",
       " 'Assembly; C++; C#; Haskell; JavaScript; SQL',\n",
       " 'C++; CoffeeScript; Elixir; Go; Java; JavaScript; Ruby; Rust',\n",
       " 'Assembly; C; C++; Java; Objective-C; SQL',\n",
       " 'Java; JavaScript; PHP; Python; Scala; SQL',\n",
       " 'Matlab; R; VBA',\n",
       " 'C#; Java; JavaScript; PHP; Python; Scala; SQL',\n",
       " 'CoffeeScript; Go; Ruby',\n",
       " 'Assembly; C; C++; Matlab; Python',\n",
       " 'Clojure; Haskell; JavaScript; Rust',\n",
       " 'Go; Java; JavaScript; PHP; Python; SQL',\n",
       " 'Java; JavaScript; Perl; Python; Ruby; SQL; TypeScript',\n",
       " 'JavaScript; PHP; Visual Basic 6',\n",
       " 'C; C++; Java; PHP; R; Ruby; SQL',\n",
       " 'C++; C#; Java; JavaScript; Objective-C; PHP; SQL',\n",
       " 'C; C++; Java; Matlab; Python; SQL',\n",
       " 'C; C#; SQL; TypeScript',\n",
       " 'C; C++; C#; Groovy; Java; JavaScript; Objective-C',\n",
       " 'C#; CoffeeScript; Elixir; JavaScript; Objective-C; Ruby; SQL; Swift',\n",
       " 'JavaScript; PHP; Python; Scala; SQL; Swift',\n",
       " 'Assembly; C; C++; Java; Python; Swift',\n",
       " 'C; C++; Python; Rust; SQL',\n",
       " 'C++; Objective-C; PHP; SQL; Swift',\n",
       " 'C; C++; C#; SQL',\n",
       " 'C; Haskell; Java; JavaScript; Python; R; SQL',\n",
       " 'JavaScript; TypeScript; VB.NET',\n",
       " 'Haskell',\n",
       " 'C#; JavaScript; PHP; Python; SQL; VBA',\n",
       " 'C++; Java; Scala',\n",
       " 'Common Lisp',\n",
       " 'C; Java; Python',\n",
       " 'C++; C#; Java; JavaScript; PHP; Python; SQL; VB.NET; Visual Basic 6',\n",
       " 'C#; F#; Go; JavaScript; Rust; SQL',\n",
       " 'C; Java; Objective-C',\n",
       " 'C; C#; Go; Java; JavaScript; Perl; PHP; Python; SQL',\n",
       " 'Assembly; C; C++; C#; Groovy; Java; JavaScript; Lua; Matlab; Objective-C; PHP; Python; Ruby; SQL; VB.NET; VBA; Visual Basic 6',\n",
       " 'C; C++; Go; JavaScript; PHP; Python; SQL',\n",
       " 'Assembly; C; C++; C#; Lua; Perl; Python',\n",
       " 'Assembly; C; C++; C#; Java; JavaScript; Matlab; PHP; Python; SQL',\n",
       " 'C; C++; C#; PHP; SQL',\n",
       " 'C#; Ruby; SQL',\n",
       " 'Go; JavaScript; Ruby',\n",
       " 'Assembly; C; Groovy; JavaScript; PHP; Python; TypeScript',\n",
       " 'Go; Ruby',\n",
       " 'C#; JavaScript; Python; R',\n",
       " 'C++; C#; Go; Java; JavaScript; Python; SQL',\n",
       " 'C#; Haskell; JavaScript; PHP; Ruby; SQL; Swift',\n",
       " 'Java; PHP; SQL',\n",
       " 'C++; JavaScript; PHP',\n",
       " 'JavaScript; R',\n",
       " 'C; Go; Java; JavaScript; Python; SQL',\n",
       " 'C++; JavaScript; Perl',\n",
       " 'Perl; Python; R; SQL',\n",
       " 'Elixir; Swift',\n",
       " 'C++; C#; Elixir; Java; JavaScript; SQL; TypeScript',\n",
       " 'JavaScript; Python; Swift',\n",
       " 'Java; JavaScript; SQL; TypeScript',\n",
       " 'C++; Scala',\n",
       " 'Assembly; C; C++; Java; JavaScript; Python',\n",
       " 'Java; JavaScript; Python; Ruby; Rust; Scala',\n",
       " 'Java; JavaScript; Python; Ruby; SQL',\n",
       " 'C; C++; Java; JavaScript; Matlab; Python; SQL',\n",
       " 'C; Java; Scala; SQL',\n",
       " 'C; C++; C#; Java; JavaScript; Lua; PHP; Python; Ruby',\n",
       " 'C#; F#; Java; JavaScript; SQL',\n",
       " 'Go; Haskell; Java; JavaScript; Julia; Python; Scala; SQL',\n",
       " 'Java; JavaScript; Matlab; PHP; Python; Ruby; SQL',\n",
       " 'Smalltalk',\n",
       " 'C; Erlang; Go; Java; JavaScript; Python',\n",
       " 'C; C++; Java; Matlab; Python; Ruby; SQL',\n",
       " 'C; Matlab',\n",
       " 'C; Java; Matlab; Ruby',\n",
       " 'Dart; Java; JavaScript; SQL',\n",
       " 'JavaScript; Perl; Python; R',\n",
       " 'Assembly; C; C++; C#; Java; JavaScript; Matlab; SQL',\n",
       " 'Objective-C',\n",
       " 'C; C++; C#; JavaScript; Ruby',\n",
       " 'C++; JavaScript; PHP; Python; Ruby; SQL; Swift; TypeScript',\n",
       " 'C; Smalltalk',\n",
       " 'Java; JavaScript; Perl; Python; Ruby; SQL',\n",
       " 'Assembly; C; C++; Matlab',\n",
       " 'C; C#; CoffeeScript; JavaScript; Ruby; SQL; Swift',\n",
       " 'JavaScript; Python; R',\n",
       " 'C; C++; C#; Go; Java; JavaScript; Perl; PHP; Python; Ruby; SQL',\n",
       " 'C; C++; C#; JavaScript; Lua; Objective-C; PHP; Ruby; SQL; Swift',\n",
       " 'C++; C#; Lua',\n",
       " 'Perl; VBA',\n",
       " 'C++; Java; JavaScript; PHP',\n",
       " 'C; C++; Matlab; Python; VBA',\n",
       " 'CoffeeScript; Java; JavaScript; Scala; SQL',\n",
       " 'C#; JavaScript; Objective-C; SQL; Swift',\n",
       " 'Elixir; Erlang; JavaScript; Python; Ruby',\n",
       " 'Clojure; Java; Python',\n",
       " 'C; C++; C#; Java; JavaScript; PHP; SQL',\n",
       " 'C++; Java; JavaScript; Scala',\n",
       " 'C; C++; Java',\n",
       " 'Groovy; Java; JavaScript; Ruby; Scala; SQL; VB.NET',\n",
       " 'Erlang; Hack; Java; JavaScript; PHP; Python; SQL',\n",
       " 'CoffeeScript; Clojure; JavaScript',\n",
       " 'Elixir; Ruby',\n",
       " 'Assembly; C; JavaScript; Python; SQL',\n",
       " 'C; Haskell; Python',\n",
       " 'C; Groovy; JavaScript; PHP; SQL',\n",
       " 'C#; Java; JavaScript; PHP; SQL',\n",
       " 'C; C#; Java; JavaScript; Matlab; PHP; SQL; TypeScript',\n",
       " 'Go; Java; JavaScript; PHP; Ruby; SQL',\n",
       " 'C; JavaScript; PHP; Python',\n",
       " 'C; C++; C#; Objective-C',\n",
       " 'Groovy; Java; JavaScript; Python; SQL',\n",
       " 'C; Java; Matlab; Python',\n",
       " 'Go; JavaScript; Rust; Swift',\n",
       " 'Java; JavaScript; R; SQL',\n",
       " 'Clojure; JavaScript; Objective-C',\n",
       " 'C#; F#; JavaScript; Python; R; TypeScript',\n",
       " 'C#; F#; Java; JavaScript; Swift',\n",
       " 'C; C++; C#; Java; JavaScript; Objective-C; PHP; SQL',\n",
       " 'C; C++; Java; PHP; Python; SQL',\n",
       " 'C#; Java; JavaScript; SQL; Swift',\n",
       " 'Go; JavaScript; PHP; Ruby; SQL',\n",
       " 'C; C++; Java; JavaScript; Lua; Python; R; SQL; VB.NET',\n",
       " 'C; Java; JavaScript; PHP; Python; SQL; TypeScript',\n",
       " 'C#; Go; JavaScript; Ruby',\n",
       " 'Assembly; C; JavaScript',\n",
       " 'C#; Java; JavaScript; Matlab; Objective-C; PHP; Python; SQL; VBA',\n",
       " 'Python; Scala; SQL',\n",
       " 'Assembly; C; C++; Objective-C; Swift',\n",
       " 'C; C#; JavaScript; Python; R',\n",
       " 'C; C++; JavaScript; Objective-C',\n",
       " 'C; Java; JavaScript; Objective-C; SQL',\n",
       " 'C++; Java; JavaScript; Perl; Python; Ruby',\n",
       " 'CoffeeScript; Go; Java; JavaScript; PHP; SQL',\n",
       " 'C; C++; JavaScript; Matlab; Python',\n",
       " 'Java; JavaScript; Matlab; Scala; SQL',\n",
       " 'C++; C#; Java; JavaScript; PHP; SQL',\n",
       " 'Groovy; Java; JavaScript; Scala; SQL',\n",
       " 'JavaScript; Objective-C; SQL',\n",
       " 'Assembly; Rust',\n",
       " 'Assembly; C; C++; C#; Erlang; Java; JavaScript; SQL',\n",
       " 'C; C++; Java; Swift',\n",
       " 'C; C++; C#; Matlab; Python; SQL',\n",
       " 'C; C++; Objective-C; Python',\n",
       " 'C#; F#; JavaScript; Ruby; SQL; VB.NET',\n",
       " 'C++; Java; R; Ruby',\n",
       " 'Go; Java; JavaScript; Objective-C',\n",
       " 'Assembly; C; C++; Java; R; SQL',\n",
       " 'C++; JavaScript; Objective-C; PHP',\n",
       " 'JavaScript; Perl; SQL',\n",
       " 'C#; JavaScript; Swift',\n",
       " 'Assembly; C++; Elixir; JavaScript; PHP; SQL',\n",
       " 'C++; C#; JavaScript; Objective-C; Python; Swift',\n",
       " 'Julia; Python; Ruby; Scala; SQL',\n",
       " 'C; Objective-C; Perl; Python',\n",
       " 'Groovy; Java; Python; Scala',\n",
       " 'Assembly; C; Objective-C; Swift',\n",
       " 'Groovy; Java; Perl; PHP; Python; R; SQL',\n",
       " 'C++; Java; Objective-C; SQL',\n",
       " 'C; C++; JavaScript; Objective-C; Python; SQL',\n",
       " 'C++; C#; Java; Scala; SQL',\n",
       " 'C; C++; Java; Perl; SQL',\n",
       " 'C#; Go; JavaScript',\n",
       " 'C; C++; Go; JavaScript; Objective-C; Perl',\n",
       " 'Python; Swift',\n",
       " 'C; C++; Objective-C; SQL',\n",
       " 'Haskell; Python',\n",
       " 'R; VBA',\n",
       " 'CoffeeScript; Java; JavaScript; Python; Scala; SQL',\n",
       " 'C; C++; C#; JavaScript; PHP',\n",
       " 'C; C++; Haskell; JavaScript; Python; R',\n",
       " 'C; C++; Java; Scala; SQL',\n",
       " 'C++; JavaScript; Perl; Python; SQL',\n",
       " 'C#; JavaScript; Objective-C; Ruby; SQL; Swift; TypeScript',\n",
       " 'Java; Python; Scala',\n",
       " 'CoffeeScript; Ruby',\n",
       " 'C#; Python; SQL; VBA',\n",
       " 'C; C++; Go; Haskell; Java; JavaScript; Perl; PHP',\n",
       " 'C; C++; C#; Java; JavaScript; Objective-C; SQL',\n",
       " 'Assembly; C; C++; C#; JavaScript',\n",
       " 'C#; Java; JavaScript; Python; SQL; Swift; VBA',\n",
       " 'C; C++; C#; Java; JavaScript; Perl; PHP; SQL; VB.NET',\n",
       " 'C#; JavaScript; PHP; Python; SQL; VB.NET; VBA',\n",
       " 'C#; JavaScript; Lua; SQL; TypeScript',\n",
       " 'C; C++; C#; Java; JavaScript; PHP',\n",
       " 'Hack; JavaScript; PHP; Python; SQL',\n",
       " 'C#; Java; JavaScript; PHP; SQL; VB.NET; VBA',\n",
       " 'C#; F#; Java; JavaScript; SQL; TypeScript',\n",
       " 'Java; JavaScript; SQL; VB.NET',\n",
       " 'Go; Java; JavaScript; Python; Scala; SQL',\n",
       " 'Go; JavaScript; Lua; PHP; Python; Ruby; SQL',\n",
       " 'Java; Perl; PHP; Python; SQL',\n",
       " 'C#; F#; Java; JavaScript; PHP; Python; SQL; TypeScript',\n",
       " 'Python; Rust',\n",
       " 'PHP; TypeScript',\n",
       " 'C; C++; C#; Haskell; Java; JavaScript; Swift',\n",
       " ...]"
      ]
     },
     "execution_count": 135,
     "metadata": {},
     "output_type": "execute_result"
    }
   ],
   "source": [
    "df_2_skill_subset_lang.HaveWorkedLanguage.unique().tolist()"
   ]
  },
  {
   "cell_type": "markdown",
   "id": "870047b7",
   "metadata": {},
   "source": [
    "#### Above shows unique() values into HaveWorkedLanguage column, Though they could be unique but reviewing those values show same keywords being used in combination of other keywords. For ex. Java, JavaScript, SQL, C, C++, Ruby etc. Definately no. of Languages are quite limited in market and they can be presented in better way than this, which will make analysis better. "
   ]
  },
  {
   "cell_type": "code",
   "execution_count": 136,
   "id": "73f96adb",
   "metadata": {},
   "outputs": [
    {
     "data": {
      "text/plain": [
       "Text(0, 0.5, 'No. of Respondents')"
      ]
     },
     "execution_count": 136,
     "metadata": {},
     "output_type": "execute_result"
    },
    {
     "data": {
      "image/png": "[encoded data removed]",
      "text/plain": [
       "<Figure size 432x288 with 1 Axes>"
      ]
     },
     "metadata": {
      "needs_background": "light"
     },
     "output_type": "display_data"
    }
   ],
   "source": [
    "pd.value_counts(df_2_skill_subset_lang['CareerSatisfaction']).plot.bar()\n",
    "plt.title(\"CareerSatisfaction Chart\")\n",
    "plt.xlabel(\"Rating\")\n",
    "plt.ylabel(\"No. of Respondents\")"
   ]
  },
  {
   "cell_type": "code",
   "execution_count": 137,
   "id": "36d888cc",
   "metadata": {},
   "outputs": [
    {
     "data": {
      "text/plain": [
       "Text(0, 0.5, 'No. of Respondents')"
      ]
     },
     "execution_count": 137,
     "metadata": {},
     "output_type": "execute_result"
    },
    {
     "data": {
      "image/png": "[encoded data removed]",
      "text/plain": [
       "<Figure size 432x288 with 1 Axes>"
      ]
     },
     "metadata": {
      "needs_background": "light"
     },
     "output_type": "display_data"
    }
   ],
   "source": [
    "pd.value_counts(df_2_skill_subset_lang['JobSatisfaction']).plot.bar()\n",
    "plt.title(\"JobSatisfaction Chart\")\n",
    "plt.xlabel(\"Rating\")\n",
    "plt.ylabel(\"No. of Respondents\")"
   ]
  },
  {
   "cell_type": "markdown",
   "id": "b925c6e4",
   "metadata": {},
   "source": [
    "#### In above garphs, Job & Career satisfaction rating is above 5 for approx. 85-90% of respondents and we filtered data based on Tech. Languages used by those respondents in day-2-day work. So we can conclude that those languages are still popular in industry and having good job market. Now we will see which language is most popular among respondents. "
   ]
  },
  {
   "cell_type": "code",
   "execution_count": 138,
   "id": "766878be",
   "metadata": {},
   "outputs": [
    {
     "data": {
      "text/plain": [
       "C#; JavaScript; SQL                                                         1175\n",
       "JavaScript; PHP; SQL                                                        1040\n",
       "Java                                                                         812\n",
       "JavaScript                                                                   748\n",
       "JavaScript; PHP                                                              594\n",
       "                                                                            ... \n",
       "C; C++; C#; Matlab; Objective-C; Perl; PHP; Ruby; SQL; Swift; TypeScript       1\n",
       "C++; C#; Java; JavaScript; Lua; PHP; SQL; TypeScript                           1\n",
       "Assembly; C; Go; Python                                                        1\n",
       "C; C#; Go; Java; JavaScript; Scala                                             1\n",
       "C#; JavaScript; PHP; Python; R; SQL                                            1\n",
       "Name: HaveWorkedLanguage, Length: 7845, dtype: int64"
      ]
     },
     "execution_count": 138,
     "metadata": {},
     "output_type": "execute_result"
    }
   ],
   "source": [
    "df_2_skill_subset_lang.HaveWorkedLanguage.value_counts()"
   ]
  },
  {
   "cell_type": "markdown",
   "id": "28c86090",
   "metadata": {},
   "source": [
    "#### From above, we can see Java, JavaScript, PHP, SQL, C# and their combination is most popular languages by respondants."
   ]
  },
  {
   "cell_type": "code",
   "execution_count": 139,
   "id": "02d49c34",
   "metadata": {},
   "outputs": [
    {
     "data": {
      "text/plain": [
       "JavaScript                                                             633\n",
       "Python                                                                 543\n",
       "Java                                                                   537\n",
       "C#                                                                     466\n",
       "C#; JavaScript; SQL                                                    443\n",
       "                                                                      ... \n",
       "Assembly; C; C++; CoffeeScript; JavaScript; PHP; Python; SQL; Swift      1\n",
       "C; C++; C#; Java; JavaScript; Lua; SQL; Swift                            1\n",
       "Assembly; Python; Visual Basic 6                                         1\n",
       "C; Java; JavaScript; Ruby; Scala; SQL                                    1\n",
       "C#; Java; JavaScript; PHP; Python; Ruby; SQL; Visual Basic 6             1\n",
       "Name: WantWorkLanguage, Length: 11183, dtype: int64"
      ]
     },
     "execution_count": 139,
     "metadata": {},
     "output_type": "execute_result"
    }
   ],
   "source": [
    "df_2_skill_subset_lang.WantWorkLanguage.value_counts()"
   ]
  },
  {
   "cell_type": "markdown",
   "id": "dec93792",
   "metadata": {},
   "source": [
    "#### Here we also see that Java, JavaScript, SQL, C# are still choice of learning along with Python as it is fast emerging progamming language for Coding and analysis."
   ]
  },
  {
   "cell_type": "markdown",
   "id": "8ba42d0c",
   "metadata": {},
   "source": [
    "##  Database Technology based:\n",
    "#### We have dropped all the rows where value is NULL or NaN becuase we cannot imput apporipate value into these categorical columns."
   ]
  },
  {
   "cell_type": "code",
   "execution_count": 140,
   "id": "5da18145",
   "metadata": {},
   "outputs": [
    {
     "name": "stdout",
     "output_type": "stream",
     "text": [
      "<class 'pandas.core.frame.DataFrame'>\n",
      "Int64Index: 23355 entries, 1 to 51388\n",
      "Data columns (total 9 columns):\n",
      " #   Column               Non-Null Count  Dtype  \n",
      "---  ------               --------------  -----  \n",
      " 0   Professional         23355 non-null  object \n",
      " 1   HaveWorkedFramework  14514 non-null  object \n",
      " 2   WantWorkFramework    17617 non-null  object \n",
      " 3   HaveWorkedDatabase   23355 non-null  object \n",
      " 4   WantWorkDatabase     23355 non-null  object \n",
      " 5   HaveWorkedLanguage   23242 non-null  object \n",
      " 6   WantWorkLanguage     22538 non-null  object \n",
      " 7   CareerSatisfaction   23355 non-null  float64\n",
      " 8   JobSatisfaction      23355 non-null  float64\n",
      "dtypes: float64(2), object(7)\n",
      "memory usage: 1.8+ MB\n"
     ]
    }
   ],
   "source": [
    "df_2_skill_subset_DB = df_2_skill_subset.dropna(subset=['HaveWorkedDatabase','WantWorkDatabase'])\n",
    "df_2_skill_subset_DB.info()"
   ]
  },
  {
   "cell_type": "code",
   "execution_count": 141,
   "id": "a391750e",
   "metadata": {},
   "outputs": [
    {
     "data": {
      "text/html": [
       "<div>\n",
       "<style scoped>\n",
       "    .dataframe tbody tr th:only-of-type {\n",
       "        vertical-align: middle;\n",
       "    }\n",
       "\n",
       "    .dataframe tbody tr th {\n",
       "        vertical-align: top;\n",
       "    }\n",
       "\n",
       "    .dataframe thead th {\n",
       "        text-align: right;\n",
       "    }\n",
       "</style>\n",
       "<table border=\"1\" class=\"dataframe\">\n",
       "  <thead>\n",
       "    <tr style=\"text-align: right;\">\n",
       "      <th></th>\n",
       "      <th>Professional</th>\n",
       "      <th>HaveWorkedDatabase</th>\n",
       "      <th>max</th>\n",
       "    </tr>\n",
       "  </thead>\n",
       "  <tbody>\n",
       "    <tr>\n",
       "      <th>0</th>\n",
       "      <td>None of these</td>\n",
       "      <td>Cassandra; MongoDB; MySQL</td>\n",
       "      <td>7.0</td>\n",
       "    </tr>\n",
       "    <tr>\n",
       "      <th>1</th>\n",
       "      <td>None of these</td>\n",
       "      <td>Cassandra; MongoDB; Redis; SQL Server; MySQL; ...</td>\n",
       "      <td>10.0</td>\n",
       "    </tr>\n",
       "    <tr>\n",
       "      <th>2</th>\n",
       "      <td>None of these</td>\n",
       "      <td>Cassandra; MySQL</td>\n",
       "      <td>6.0</td>\n",
       "    </tr>\n",
       "    <tr>\n",
       "      <th>3</th>\n",
       "      <td>None of these</td>\n",
       "      <td>Cassandra; PostgreSQL</td>\n",
       "      <td>8.0</td>\n",
       "    </tr>\n",
       "    <tr>\n",
       "      <th>4</th>\n",
       "      <td>None of these</td>\n",
       "      <td>Cassandra; Redis; MySQL; PostgreSQL; SQLite</td>\n",
       "      <td>3.0</td>\n",
       "    </tr>\n",
       "    <tr>\n",
       "      <th>...</th>\n",
       "      <td>...</td>\n",
       "      <td>...</td>\n",
       "      <td>...</td>\n",
       "    </tr>\n",
       "    <tr>\n",
       "      <th>610</th>\n",
       "      <td>Used to be a professional developer</td>\n",
       "      <td>SQL Server; Oracle; SQLite</td>\n",
       "      <td>8.0</td>\n",
       "    </tr>\n",
       "    <tr>\n",
       "      <th>611</th>\n",
       "      <td>Used to be a professional developer</td>\n",
       "      <td>SQL Server; PostgreSQL</td>\n",
       "      <td>10.0</td>\n",
       "    </tr>\n",
       "    <tr>\n",
       "      <th>612</th>\n",
       "      <td>Used to be a professional developer</td>\n",
       "      <td>SQL Server; PostgreSQL; Oracle</td>\n",
       "      <td>9.0</td>\n",
       "    </tr>\n",
       "    <tr>\n",
       "      <th>613</th>\n",
       "      <td>Used to be a professional developer</td>\n",
       "      <td>SQL Server; SQLite</td>\n",
       "      <td>10.0</td>\n",
       "    </tr>\n",
       "    <tr>\n",
       "      <th>614</th>\n",
       "      <td>Used to be a professional developer</td>\n",
       "      <td>SQLite</td>\n",
       "      <td>10.0</td>\n",
       "    </tr>\n",
       "  </tbody>\n",
       "</table>\n",
       "<p>615 rows × 3 columns</p>\n",
       "</div>"
      ],
      "text/plain": [
       "                            Professional  \\\n",
       "0                          None of these   \n",
       "1                          None of these   \n",
       "2                          None of these   \n",
       "3                          None of these   \n",
       "4                          None of these   \n",
       "..                                   ...   \n",
       "610  Used to be a professional developer   \n",
       "611  Used to be a professional developer   \n",
       "612  Used to be a professional developer   \n",
       "613  Used to be a professional developer   \n",
       "614  Used to be a professional developer   \n",
       "\n",
       "                                    HaveWorkedDatabase   max  \n",
       "0                            Cassandra; MongoDB; MySQL   7.0  \n",
       "1    Cassandra; MongoDB; Redis; SQL Server; MySQL; ...  10.0  \n",
       "2                                     Cassandra; MySQL   6.0  \n",
       "3                                Cassandra; PostgreSQL   8.0  \n",
       "4          Cassandra; Redis; MySQL; PostgreSQL; SQLite   3.0  \n",
       "..                                                 ...   ...  \n",
       "610                         SQL Server; Oracle; SQLite   8.0  \n",
       "611                             SQL Server; PostgreSQL  10.0  \n",
       "612                     SQL Server; PostgreSQL; Oracle   9.0  \n",
       "613                                 SQL Server; SQLite  10.0  \n",
       "614                                             SQLite  10.0  \n",
       "\n",
       "[615 rows x 3 columns]"
      ]
     },
     "execution_count": 141,
     "metadata": {},
     "output_type": "execute_result"
    }
   ],
   "source": [
    "grouped_multiple_db = df_2_skill_subset_lang.groupby(['Professional', 'HaveWorkedDatabase']).agg({'CareerSatisfaction': ['max']})\n",
    "grouped_multiple_db.columns = ['max']\n",
    "grouped_multiple_db = grouped_multiple_db.reset_index()\n",
    "grouped_multiple_db"
   ]
  },
  {
   "cell_type": "code",
   "execution_count": 142,
   "id": "50fa2c76",
   "metadata": {},
   "outputs": [
    {
     "data": {
      "text/plain": [
       "['MySQL; SQLite',\n",
       " 'MongoDB; Redis; SQL Server; MySQL; SQLite',\n",
       " 'SQLite',\n",
       " 'SQL Server',\n",
       " 'Redis; MySQL; PostgreSQL',\n",
       " 'MySQL',\n",
       " 'Cassandra; MySQL',\n",
       " 'MongoDB; MySQL',\n",
       " 'MongoDB',\n",
       " 'Cassandra; MongoDB; Redis; SQL Server; PostgreSQL',\n",
       " 'SQL Server; SQLite',\n",
       " 'SQL Server; MySQL; Oracle',\n",
       " 'MongoDB; Redis; MySQL; PostgreSQL; SQLite',\n",
       " 'MongoDB; SQL Server; Oracle',\n",
       " 'MongoDB; PostgreSQL; Oracle; SQLite',\n",
       " 'Redis; MySQL',\n",
       " 'Redis; SQL Server; MySQL',\n",
       " 'SQL Server; MySQL; PostgreSQL; Oracle; SQLite',\n",
       " 'MongoDB; Redis; MySQL',\n",
       " 'Redis; PostgreSQL',\n",
       " 'Cassandra',\n",
       " 'PostgreSQL; SQLite',\n",
       " 'MySQL; Oracle; SQLite',\n",
       " 'SQL Server; MySQL',\n",
       " 'PostgreSQL',\n",
       " 'MongoDB; Redis; PostgreSQL',\n",
       " 'Oracle',\n",
       " 'MySQL; Oracle',\n",
       " 'SQL Server; MySQL; SQLite',\n",
       " 'Cassandra; Redis; MySQL',\n",
       " 'Redis; MySQL; SQLite',\n",
       " 'MongoDB; SQL Server; MySQL',\n",
       " 'SQL Server; Oracle',\n",
       " 'Redis; MySQL; PostgreSQL; SQLite',\n",
       " 'Redis',\n",
       " 'MySQL; PostgreSQL',\n",
       " 'MongoDB; Redis; MySQL; PostgreSQL',\n",
       " 'Redis; SQL Server; Oracle',\n",
       " 'MongoDB; Redis',\n",
       " 'MongoDB; SQL Server; SQLite',\n",
       " 'Cassandra; Redis; PostgreSQL',\n",
       " 'MySQL; PostgreSQL; Oracle',\n",
       " 'PostgreSQL; Oracle; SQLite',\n",
       " 'MySQL; PostgreSQL; SQLite',\n",
       " 'Redis; SQL Server; MySQL; PostgreSQL',\n",
       " 'Cassandra; PostgreSQL; Oracle',\n",
       " 'MongoDB; Redis; SQL Server; PostgreSQL; Oracle',\n",
       " 'Redis; SQL Server',\n",
       " 'MongoDB; MySQL; Oracle',\n",
       " 'MongoDB; SQL Server',\n",
       " 'Redis; SQL Server; PostgreSQL; SQLite',\n",
       " 'MongoDB; SQL Server; PostgreSQL',\n",
       " 'MongoDB; SQL Server; MySQL; SQLite',\n",
       " 'MySQL; PostgreSQL; Oracle; SQLite',\n",
       " 'SQL Server; MySQL; PostgreSQL; Oracle',\n",
       " 'SQL Server; MySQL; PostgreSQL',\n",
       " 'MongoDB; Redis; SQL Server',\n",
       " 'SQL Server; PostgreSQL; Oracle; SQLite',\n",
       " 'SQL Server; PostgreSQL',\n",
       " 'MongoDB; PostgreSQL',\n",
       " 'Cassandra; SQL Server; SQLite',\n",
       " 'SQL Server; MySQL; PostgreSQL; SQLite',\n",
       " 'Cassandra; PostgreSQL',\n",
       " 'Cassandra; Redis',\n",
       " 'MongoDB; SQL Server; MySQL; PostgreSQL',\n",
       " 'MongoDB; Redis; MySQL; SQLite',\n",
       " 'MongoDB; Oracle',\n",
       " 'PostgreSQL; Oracle',\n",
       " 'SQL Server; PostgreSQL; Oracle',\n",
       " 'Redis; SQL Server; MySQL; Oracle; SQLite',\n",
       " 'Cassandra; SQL Server; PostgreSQL',\n",
       " 'MongoDB; Redis; SQL Server; SQLite',\n",
       " 'MongoDB; SQLite',\n",
       " 'SQL Server; MySQL; Oracle; SQLite',\n",
       " 'SQL Server; Oracle; SQLite',\n",
       " 'Oracle; SQLite',\n",
       " 'MongoDB; SQL Server; MySQL; PostgreSQL; SQLite',\n",
       " 'MongoDB; Redis; SQL Server; MySQL',\n",
       " 'MongoDB; Redis; SQL Server; MySQL; PostgreSQL; Oracle; SQLite',\n",
       " 'MongoDB; MySQL; SQLite',\n",
       " 'Cassandra; MongoDB; SQL Server; MySQL',\n",
       " 'Cassandra; SQL Server; MySQL; PostgreSQL',\n",
       " 'Redis; SQL Server; MySQL; SQLite',\n",
       " 'MongoDB; Redis; SQL Server; PostgreSQL',\n",
       " 'Cassandra; SQL Server; MySQL',\n",
       " 'Cassandra; MongoDB',\n",
       " 'MongoDB; Redis; SQL Server; MySQL; PostgreSQL',\n",
       " 'Redis; PostgreSQL; SQLite',\n",
       " 'MongoDB; MySQL; PostgreSQL',\n",
       " 'MongoDB; Redis; SQL Server; MySQL; Oracle',\n",
       " 'MongoDB; PostgreSQL; SQLite',\n",
       " 'Redis; SQL Server; MySQL; PostgreSQL; SQLite',\n",
       " 'SQL Server; PostgreSQL; SQLite',\n",
       " 'MongoDB; SQL Server; PostgreSQL; SQLite',\n",
       " 'MongoDB; MySQL; PostgreSQL; Oracle; SQLite',\n",
       " 'MongoDB; Redis; SQLite',\n",
       " 'Redis; SQLite',\n",
       " 'Cassandra; MongoDB; Redis; MySQL; PostgreSQL; Oracle; SQLite',\n",
       " 'Cassandra; SQL Server',\n",
       " 'Cassandra; SQL Server; MySQL; PostgreSQL; SQLite',\n",
       " 'MongoDB; Redis; SQL Server; PostgreSQL; SQLite',\n",
       " 'MongoDB; SQL Server; PostgreSQL; Oracle',\n",
       " 'MongoDB; MySQL; PostgreSQL; SQLite',\n",
       " 'MongoDB; Redis; PostgreSQL; SQLite',\n",
       " 'Redis; Oracle',\n",
       " 'Cassandra; Redis; SQL Server',\n",
       " 'Cassandra; MongoDB; MySQL',\n",
       " 'MongoDB; Redis; Oracle',\n",
       " 'Cassandra; MongoDB; SQL Server',\n",
       " 'Redis; MySQL; Oracle',\n",
       " 'MongoDB; PostgreSQL; Oracle',\n",
       " 'Cassandra; MongoDB; MySQL; PostgreSQL; Oracle; SQLite',\n",
       " 'Redis; PostgreSQL; Oracle',\n",
       " 'Redis; SQL Server; Oracle; SQLite',\n",
       " 'MongoDB; SQL Server; MySQL; PostgreSQL; Oracle',\n",
       " 'Redis; SQL Server; PostgreSQL',\n",
       " 'Redis; SQL Server; MySQL; PostgreSQL; Oracle; SQLite',\n",
       " 'Cassandra; Oracle',\n",
       " 'Cassandra; MongoDB; MySQL; PostgreSQL',\n",
       " 'MongoDB; MySQL; PostgreSQL; Oracle',\n",
       " 'MongoDB; Redis; SQL Server; MySQL; PostgreSQL; Oracle',\n",
       " 'Cassandra; MongoDB; Redis; MySQL',\n",
       " 'Cassandra; MongoDB; Redis; MySQL; PostgreSQL',\n",
       " 'MongoDB; SQL Server; MySQL; Oracle; SQLite',\n",
       " 'Redis; SQL Server; SQLite',\n",
       " 'Cassandra; Redis; SQL Server; MySQL; SQLite',\n",
       " 'Redis; MySQL; Oracle; SQLite',\n",
       " 'Cassandra; SQLite',\n",
       " 'Cassandra; MySQL; PostgreSQL',\n",
       " 'MongoDB; Redis; SQL Server; MySQL; PostgreSQL; SQLite',\n",
       " 'Cassandra; Redis; MySQL; PostgreSQL',\n",
       " 'MongoDB; Redis; MySQL; Oracle',\n",
       " 'Redis; SQL Server; MySQL; Oracle',\n",
       " 'Cassandra; MongoDB; Redis; SQL Server; MySQL; PostgreSQL; SQLite',\n",
       " 'Redis; PostgreSQL; Oracle; SQLite',\n",
       " 'Cassandra; MongoDB; Redis; SQL Server',\n",
       " 'Redis; MySQL; PostgreSQL; Oracle; SQLite',\n",
       " 'MongoDB; Redis; SQL Server; Oracle',\n",
       " 'Cassandra; MongoDB; SQL Server; MySQL; PostgreSQL; Oracle',\n",
       " 'Cassandra; MySQL; Oracle',\n",
       " 'Cassandra; MongoDB; PostgreSQL',\n",
       " 'Cassandra; MongoDB; SQL Server; MySQL; Oracle',\n",
       " 'MongoDB; SQL Server; MySQL; PostgreSQL; Oracle; SQLite',\n",
       " 'Cassandra; MongoDB; Redis; MySQL; PostgreSQL; Oracle',\n",
       " 'Cassandra; MongoDB; Oracle',\n",
       " 'Cassandra; PostgreSQL; SQLite',\n",
       " 'Cassandra; SQL Server; MySQL; PostgreSQL; Oracle; SQLite',\n",
       " 'Cassandra; MongoDB; MySQL; Oracle',\n",
       " 'MongoDB; Redis; MySQL; PostgreSQL; Oracle; SQLite',\n",
       " 'Cassandra; MongoDB; MySQL; PostgreSQL; Oracle',\n",
       " 'Cassandra; Redis; SQLite',\n",
       " 'Cassandra; Redis; MySQL; PostgreSQL; SQLite',\n",
       " 'Cassandra; SQL Server; MySQL; Oracle; SQLite',\n",
       " 'MongoDB; SQL Server; Oracle; SQLite',\n",
       " 'Cassandra; MongoDB; MySQL; PostgreSQL; SQLite',\n",
       " 'Cassandra; MongoDB; SQL Server; MySQL; PostgreSQL; Oracle; SQLite',\n",
       " 'Redis; MySQL; PostgreSQL; Oracle',\n",
       " 'Cassandra; MongoDB; Redis; PostgreSQL',\n",
       " 'Cassandra; Redis; SQL Server; MySQL; PostgreSQL; SQLite',\n",
       " 'Cassandra; MongoDB; Redis',\n",
       " 'Cassandra; MongoDB; MySQL; SQLite',\n",
       " 'Cassandra; Redis; SQL Server; MySQL',\n",
       " 'MongoDB; Redis; SQL Server; MySQL; Oracle; SQLite',\n",
       " 'Cassandra; Redis; PostgreSQL; SQLite',\n",
       " 'Cassandra; MongoDB; Redis; SQL Server; MySQL; PostgreSQL; Oracle',\n",
       " 'MongoDB; Redis; SQL Server; PostgreSQL; Oracle; SQLite',\n",
       " 'Cassandra; Redis; SQL Server; Oracle',\n",
       " 'MongoDB; Oracle; SQLite',\n",
       " 'Cassandra; SQL Server; PostgreSQL; Oracle; SQLite',\n",
       " 'MongoDB; Redis; MySQL; PostgreSQL; Oracle',\n",
       " 'Cassandra; SQL Server; MySQL; Oracle',\n",
       " 'Cassandra; SQL Server; Oracle',\n",
       " 'MongoDB; SQL Server; MySQL; Oracle',\n",
       " 'MongoDB; MySQL; Oracle; SQLite',\n",
       " 'Cassandra; MySQL; SQLite',\n",
       " 'Cassandra; MongoDB; Redis; SQL Server; MySQL; PostgreSQL; Oracle; SQLite',\n",
       " 'Cassandra; MongoDB; Redis; PostgreSQL; SQLite',\n",
       " 'Cassandra; Redis; MySQL; SQLite',\n",
       " 'Cassandra; MongoDB; SQLite',\n",
       " 'Cassandra; Redis; PostgreSQL; Oracle',\n",
       " 'Redis; SQL Server; MySQL; PostgreSQL; Oracle',\n",
       " 'Cassandra; MongoDB; Redis; MySQL; PostgreSQL; SQLite',\n",
       " 'Cassandra; MongoDB; Redis; MySQL; Oracle',\n",
       " 'MongoDB; Redis; PostgreSQL; Oracle',\n",
       " 'Cassandra; MongoDB; SQL Server; Oracle',\n",
       " 'Cassandra; MongoDB; Redis; MySQL; SQLite',\n",
       " 'Cassandra; SQL Server; PostgreSQL; Oracle',\n",
       " 'Cassandra; SQL Server; MySQL; PostgreSQL; Oracle',\n",
       " 'Cassandra; MongoDB; SQL Server; SQLite',\n",
       " 'Cassandra; Redis; SQL Server; PostgreSQL; Oracle',\n",
       " 'Cassandra; MongoDB; PostgreSQL; SQLite',\n",
       " 'Cassandra; MySQL; PostgreSQL; SQLite',\n",
       " 'Cassandra; MySQL; PostgreSQL; Oracle; SQLite',\n",
       " 'Cassandra; SQL Server; MySQL; SQLite',\n",
       " 'Cassandra; PostgreSQL; Oracle; SQLite',\n",
       " 'Redis; SQL Server; PostgreSQL; Oracle',\n",
       " 'Cassandra; Redis; SQL Server; PostgreSQL',\n",
       " 'Cassandra; MongoDB; SQL Server; MySQL; PostgreSQL',\n",
       " 'Cassandra; MongoDB; PostgreSQL; Oracle',\n",
       " 'Cassandra; Redis; Oracle',\n",
       " 'Cassandra; MongoDB; Oracle; SQLite',\n",
       " 'Cassandra; Redis; MySQL; Oracle',\n",
       " 'MongoDB; Redis; MySQL; Oracle; SQLite',\n",
       " 'Cassandra; Redis; MySQL; Oracle; SQLite',\n",
       " 'Cassandra; MongoDB; Redis; SQL Server; PostgreSQL; SQLite',\n",
       " 'Cassandra; MongoDB; Redis; SQL Server; MySQL; Oracle; SQLite',\n",
       " 'Cassandra; MongoDB; SQL Server; MySQL; SQLite',\n",
       " 'Cassandra; MongoDB; Redis; SQL Server; MySQL',\n",
       " 'Cassandra; Redis; SQL Server; MySQL; PostgreSQL; Oracle; SQLite',\n",
       " 'Cassandra; MongoDB; SQL Server; MySQL; PostgreSQL; SQLite',\n",
       " 'Cassandra; MongoDB; Redis; SQL Server; MySQL; Oracle',\n",
       " 'Cassandra; MongoDB; Redis; SQL Server; SQLite',\n",
       " 'Cassandra; MongoDB; MySQL; Oracle; SQLite',\n",
       " 'Cassandra; Redis; MySQL; PostgreSQL; Oracle',\n",
       " 'Cassandra; MySQL; Oracle; SQLite',\n",
       " 'MongoDB; Redis; PostgreSQL; Oracle; SQLite',\n",
       " 'Cassandra; MongoDB; SQL Server; MySQL; Oracle; SQLite',\n",
       " 'Redis; SQL Server; PostgreSQL; Oracle; SQLite',\n",
       " 'Cassandra; MongoDB; Redis; PostgreSQL; Oracle',\n",
       " 'Cassandra; MongoDB; Redis; Oracle; SQLite',\n",
       " 'Cassandra; MongoDB; Redis; Oracle',\n",
       " 'Cassandra; MySQL; PostgreSQL; Oracle',\n",
       " 'Cassandra; MongoDB; Redis; SQL Server; Oracle; SQLite',\n",
       " 'Cassandra; Redis; SQL Server; MySQL; Oracle',\n",
       " 'Cassandra; SQL Server; Oracle; SQLite',\n",
       " 'Cassandra; MongoDB; Redis; PostgreSQL; Oracle; SQLite',\n",
       " 'MongoDB; Redis; Oracle; SQLite',\n",
       " 'MongoDB; SQL Server; PostgreSQL; Oracle; SQLite',\n",
       " 'Cassandra; MongoDB; Redis; SQL Server; PostgreSQL; Oracle; SQLite',\n",
       " 'MongoDB; Redis; SQL Server; Oracle; SQLite']"
      ]
     },
     "execution_count": 142,
     "metadata": {},
     "output_type": "execute_result"
    }
   ],
   "source": [
    "df_2_skill_subset_DB.HaveWorkedDatabase.unique().tolist()"
   ]
  },
  {
   "cell_type": "markdown",
   "id": "d5282ac8",
   "metadata": {},
   "source": [
    "#### Above shows unique() values into HaveWorkedDatabase column, Though they could be unique but reviewing those values show same keywords being used in combination of other keywords. For ex. MySql, Oracle, SQL server, MongoDB, PostgreSQL,Cassandra  etc. Definately no. of Database tech. are quite limited in market and they can be presented in better way than this, which will make analysis better."
   ]
  },
  {
   "cell_type": "code",
   "execution_count": 143,
   "id": "5f388706",
   "metadata": {},
   "outputs": [
    {
     "data": {
      "text/plain": [
       "Text(0, 0.5, 'No. of Respondents')"
      ]
     },
     "execution_count": 143,
     "metadata": {},
     "output_type": "execute_result"
    },
    {
     "data": {
      "image/png": "[encoded data removed]",
      "text/plain": [
       "<Figure size 432x288 with 1 Axes>"
      ]
     },
     "metadata": {
      "needs_background": "light"
     },
     "output_type": "display_data"
    }
   ],
   "source": [
    "pd.value_counts(df_2_skill_subset_DB['CareerSatisfaction']).plot.bar()\n",
    "plt.title(\"CareerSatisfaction Chart\")\n",
    "plt.xlabel(\"Rating\")\n",
    "plt.ylabel(\"No. of Respondents\")"
   ]
  },
  {
   "cell_type": "code",
   "execution_count": 144,
   "id": "71499d69",
   "metadata": {},
   "outputs": [
    {
     "data": {
      "text/plain": [
       "Text(0, 0.5, 'No. of Respondents')"
      ]
     },
     "execution_count": 144,
     "metadata": {},
     "output_type": "execute_result"
    },
    {
     "data": {
      "image/png": "[encoded data removed]",
      "text/plain": [
       "<Figure size 432x288 with 1 Axes>"
      ]
     },
     "metadata": {
      "needs_background": "light"
     },
     "output_type": "display_data"
    }
   ],
   "source": [
    "pd.value_counts(df_2_skill_subset_DB['JobSatisfaction']).plot.bar()\n",
    "plt.title(\"JobSatisfaction Chart\")\n",
    "plt.xlabel(\"Rating\")\n",
    "plt.ylabel(\"No. of Respondents\")"
   ]
  },
  {
   "cell_type": "markdown",
   "id": "d8bc393d",
   "metadata": {},
   "source": [
    "#### In above garphs, Job & Career satisfaction rating is above 5 for approx. 85-90% of respondents and we filtered data based on DB Tech. Languages used by those respondents in day-2-day work. So we can conclude that those languages are still popular in industry and having good job market. Now we will see which language is most popular among respondents."
   ]
  },
  {
   "cell_type": "code",
   "execution_count": 145,
   "id": "82ce0752",
   "metadata": {},
   "outputs": [
    {
     "data": {
      "text/plain": [
       "MySQL                                                3252\n",
       "SQL Server                                           3030\n",
       "SQL Server; MySQL                                    1214\n",
       "PostgreSQL                                            987\n",
       "MySQL; SQLite                                         984\n",
       "                                                     ... \n",
       "Cassandra; SQL Server; PostgreSQL; Oracle; SQLite       1\n",
       "Cassandra; PostgreSQL; Oracle; SQLite                   1\n",
       "Cassandra; Redis; SQL Server; PostgreSQL; Oracle        1\n",
       "Cassandra; MongoDB; SQLite                              1\n",
       "MongoDB; Redis; SQL Server; Oracle; SQLite              1\n",
       "Name: HaveWorkedDatabase, Length: 230, dtype: int64"
      ]
     },
     "execution_count": 145,
     "metadata": {},
     "output_type": "execute_result"
    }
   ],
   "source": [
    "df_2_skill_subset_DB.HaveWorkedDatabase.value_counts()"
   ]
  },
  {
   "cell_type": "markdown",
   "id": "e2aaacaa",
   "metadata": {},
   "source": [
    "#### From above, we can see MySQL, SQL Server,PostgreSQL and their combination is very popular DB platform used by respondants and in industry. \n"
   ]
  },
  {
   "cell_type": "code",
   "execution_count": 146,
   "id": "5251c9d8",
   "metadata": {},
   "outputs": [
    {
     "data": {
      "text/plain": [
       "SQL Server                                                  1941\n",
       "MySQL                                                       1806\n",
       "MongoDB                                                     1689\n",
       "PostgreSQL                                                  1437\n",
       "MongoDB; MySQL                                               716\n",
       "                                                            ... \n",
       "Cassandra; SQL Server; PostgreSQL; SQLite                      1\n",
       "Cassandra; SQL Server; PostgreSQL; Oracle                      1\n",
       "Cassandra; Redis; SQL Server; PostgreSQL; Oracle; SQLite       1\n",
       "Cassandra; MySQL; PostgreSQL; Oracle                           1\n",
       "Cassandra; MongoDB; SQL Server; PostgreSQL; SQLite             1\n",
       "Name: WantWorkDatabase, Length: 248, dtype: int64"
      ]
     },
     "execution_count": 146,
     "metadata": {},
     "output_type": "execute_result"
    }
   ],
   "source": [
    "df_2_skill_subset_DB.WantWorkDatabase.value_counts()"
   ]
  },
  {
   "cell_type": "markdown",
   "id": "124945aa",
   "metadata": {},
   "source": [
    "#### Though SQL Server is still maintaining its popularity for leanring but open source DB tech like Mongo, Cassandra, PostgreSQL are also key DB tech., respondents want to learn. It shows another propect that Industry is also moving from Traditional DB Tech. like MSSQL/ Oracle/ Sybase to Open Source, less expensive and light weight DB tech. "
   ]
  },
  {
   "cell_type": "markdown",
   "id": "8139cc04",
   "metadata": {},
   "source": [
    "## Framework based:\n",
    "#### We have dropped all the rows where value is NULL or NaN becuase we cannot imput apporipate value into these categorical columns."
   ]
  },
  {
   "cell_type": "code",
   "execution_count": 147,
   "id": "782efe63",
   "metadata": {},
   "outputs": [
    {
     "name": "stdout",
     "output_type": "stream",
     "text": [
      "<class 'pandas.core.frame.DataFrame'>\n",
      "Int64Index: 16571 entries, 1 to 51387\n",
      "Data columns (total 9 columns):\n",
      " #   Column               Non-Null Count  Dtype  \n",
      "---  ------               --------------  -----  \n",
      " 0   Professional         16571 non-null  object \n",
      " 1   HaveWorkedFramework  16571 non-null  object \n",
      " 2   WantWorkFramework    16571 non-null  object \n",
      " 3   HaveWorkedDatabase   14838 non-null  object \n",
      " 4   WantWorkDatabase     13617 non-null  object \n",
      " 5   HaveWorkedLanguage   16522 non-null  object \n",
      " 6   WantWorkLanguage     15972 non-null  object \n",
      " 7   CareerSatisfaction   16571 non-null  float64\n",
      " 8   JobSatisfaction      16571 non-null  float64\n",
      "dtypes: float64(2), object(7)\n",
      "memory usage: 1.3+ MB\n"
     ]
    }
   ],
   "source": [
    "df_2_skill_subset_Fwork = df_2_skill_subset.dropna(subset=['HaveWorkedFramework','WantWorkFramework'])\n",
    "df_2_skill_subset_Fwork.info()"
   ]
  },
  {
   "cell_type": "markdown",
   "id": "977cc69f",
   "metadata": {},
   "source": [
    "#### Responds response on Framework technology is very less as compare to database and language but we still try to make some observations ."
   ]
  },
  {
   "cell_type": "code",
   "execution_count": 148,
   "id": "fb7f8f0a",
   "metadata": {},
   "outputs": [
    {
     "data": {
      "text/html": [
       "<div>\n",
       "<style scoped>\n",
       "    .dataframe tbody tr th:only-of-type {\n",
       "        vertical-align: middle;\n",
       "    }\n",
       "\n",
       "    .dataframe tbody tr th {\n",
       "        vertical-align: top;\n",
       "    }\n",
       "\n",
       "    .dataframe thead th {\n",
       "        text-align: right;\n",
       "    }\n",
       "</style>\n",
       "<table border=\"1\" class=\"dataframe\">\n",
       "  <thead>\n",
       "    <tr style=\"text-align: right;\">\n",
       "      <th></th>\n",
       "      <th>Professional</th>\n",
       "      <th>HaveWorkedFramework</th>\n",
       "      <th>max</th>\n",
       "    </tr>\n",
       "  </thead>\n",
       "  <tbody>\n",
       "    <tr>\n",
       "      <th>0</th>\n",
       "      <td>None of these</td>\n",
       "      <td>.NET Core</td>\n",
       "      <td>10.0</td>\n",
       "    </tr>\n",
       "    <tr>\n",
       "      <th>1</th>\n",
       "      <td>None of these</td>\n",
       "      <td>AngularJS</td>\n",
       "      <td>10.0</td>\n",
       "    </tr>\n",
       "    <tr>\n",
       "      <th>2</th>\n",
       "      <td>None of these</td>\n",
       "      <td>AngularJS; .NET Core</td>\n",
       "      <td>7.0</td>\n",
       "    </tr>\n",
       "    <tr>\n",
       "      <th>3</th>\n",
       "      <td>None of these</td>\n",
       "      <td>AngularJS; Cordova; Xamarin; .NET Core</td>\n",
       "      <td>8.0</td>\n",
       "    </tr>\n",
       "    <tr>\n",
       "      <th>4</th>\n",
       "      <td>None of these</td>\n",
       "      <td>AngularJS; Firebase</td>\n",
       "      <td>10.0</td>\n",
       "    </tr>\n",
       "    <tr>\n",
       "      <th>...</th>\n",
       "      <td>...</td>\n",
       "      <td>...</td>\n",
       "      <td>...</td>\n",
       "    </tr>\n",
       "    <tr>\n",
       "      <th>551</th>\n",
       "      <td>Used to be a professional developer</td>\n",
       "      <td>React</td>\n",
       "      <td>8.0</td>\n",
       "    </tr>\n",
       "    <tr>\n",
       "      <th>552</th>\n",
       "      <td>Used to be a professional developer</td>\n",
       "      <td>React; Spark</td>\n",
       "      <td>8.0</td>\n",
       "    </tr>\n",
       "    <tr>\n",
       "      <th>553</th>\n",
       "      <td>Used to be a professional developer</td>\n",
       "      <td>Spark</td>\n",
       "      <td>9.0</td>\n",
       "    </tr>\n",
       "    <tr>\n",
       "      <th>554</th>\n",
       "      <td>Used to be a professional developer</td>\n",
       "      <td>Xamarin</td>\n",
       "      <td>8.0</td>\n",
       "    </tr>\n",
       "    <tr>\n",
       "      <th>555</th>\n",
       "      <td>Used to be a professional developer</td>\n",
       "      <td>Xamarin; .NET Core</td>\n",
       "      <td>10.0</td>\n",
       "    </tr>\n",
       "  </tbody>\n",
       "</table>\n",
       "<p>556 rows × 3 columns</p>\n",
       "</div>"
      ],
      "text/plain": [
       "                            Professional  \\\n",
       "0                          None of these   \n",
       "1                          None of these   \n",
       "2                          None of these   \n",
       "3                          None of these   \n",
       "4                          None of these   \n",
       "..                                   ...   \n",
       "551  Used to be a professional developer   \n",
       "552  Used to be a professional developer   \n",
       "553  Used to be a professional developer   \n",
       "554  Used to be a professional developer   \n",
       "555  Used to be a professional developer   \n",
       "\n",
       "                        HaveWorkedFramework   max  \n",
       "0                                 .NET Core  10.0  \n",
       "1                                 AngularJS  10.0  \n",
       "2                      AngularJS; .NET Core   7.0  \n",
       "3    AngularJS; Cordova; Xamarin; .NET Core   8.0  \n",
       "4                       AngularJS; Firebase  10.0  \n",
       "..                                      ...   ...  \n",
       "551                                   React   8.0  \n",
       "552                            React; Spark   8.0  \n",
       "553                                   Spark   9.0  \n",
       "554                                 Xamarin   8.0  \n",
       "555                      Xamarin; .NET Core  10.0  \n",
       "\n",
       "[556 rows x 3 columns]"
      ]
     },
     "execution_count": 148,
     "metadata": {},
     "output_type": "execute_result"
    }
   ],
   "source": [
    "grouped_multiple_fwork = df_2_skill_subset_Fwork.groupby(['Professional', 'HaveWorkedFramework']).agg({'CareerSatisfaction': ['max']})\n",
    "grouped_multiple_fwork.columns = ['max']\n",
    "grouped_multiple_fwork = grouped_multiple_fwork.reset_index()\n",
    "grouped_multiple_fwork"
   ]
  },
  {
   "cell_type": "code",
   "execution_count": 149,
   "id": "df0e5f33",
   "metadata": {},
   "outputs": [
    {
     "data": {
      "text/plain": [
       "['.NET Core',\n",
       " 'React',\n",
       " 'AngularJS; Node.js; .NET Core',\n",
       " 'AngularJS',\n",
       " 'Hadoop; Spark',\n",
       " 'Spark',\n",
       " 'Hadoop; Node.js',\n",
       " 'Node.js; React; Firebase',\n",
       " 'AngularJS; .NET Core',\n",
       " 'Node.js; .NET Core',\n",
       " 'Node.js',\n",
       " 'AngularJS; Node.js',\n",
       " 'Cordova; Xamarin; .NET Core',\n",
       " 'Node.js; React',\n",
       " 'Xamarin',\n",
       " 'AngularJS; Node.js; Cordova',\n",
       " 'AngularJS; Node.js; Firebase; .NET Core',\n",
       " 'AngularJS; Node.js; React',\n",
       " 'Node.js; React; Spark; Xamarin',\n",
       " 'AngularJS; Hadoop; Node.js; React',\n",
       " 'React; Spark',\n",
       " 'Node.js; Cordova',\n",
       " 'Firebase',\n",
       " 'Xamarin; .NET Core',\n",
       " 'AngularJS; Node.js; React; Cordova; Xamarin; Firebase; .NET Core',\n",
       " 'React; .NET Core',\n",
       " 'AngularJS; Hadoop; Cordova; Firebase',\n",
       " 'Hadoop; .NET Core',\n",
       " 'AngularJS; Hadoop; Node.js; Spark',\n",
       " 'AngularJS; Hadoop; Node.js; React; Spark',\n",
       " 'AngularJS; Node.js; Cordova; Xamarin; .NET Core',\n",
       " 'AngularJS; Cordova',\n",
       " 'AngularJS; Node.js; React; Firebase',\n",
       " 'React; Firebase; .NET Core',\n",
       " 'AngularJS; Node.js; React; .NET Core',\n",
       " 'Node.js; Xamarin',\n",
       " 'Node.js; React; Cordova',\n",
       " 'Node.js; React; Xamarin; Firebase',\n",
       " 'Node.js; React; .NET Core',\n",
       " 'AngularJS; Node.js; Xamarin; .NET Core',\n",
       " 'AngularJS; Hadoop; Node.js; .NET Core',\n",
       " 'Xamarin; Firebase',\n",
       " 'AngularJS; Hadoop; Node.js',\n",
       " 'AngularJS; Node.js; React; Xamarin; .NET Core',\n",
       " 'Node.js; Xamarin; .NET Core',\n",
       " 'AngularJS; Cordova; .NET Core',\n",
       " 'React; Xamarin; .NET Core',\n",
       " 'AngularJS; Node.js; Firebase',\n",
       " 'AngularJS; Cordova; Xamarin; .NET Core',\n",
       " 'AngularJS; Node.js; React; Xamarin',\n",
       " 'AngularJS; React',\n",
       " 'AngularJS; Node.js; Cordova; Xamarin',\n",
       " 'Cordova',\n",
       " 'AngularJS; React; Cordova',\n",
       " 'AngularJS; Hadoop; Spark',\n",
       " 'AngularJS; React; Xamarin',\n",
       " 'Hadoop; Node.js; Spark',\n",
       " 'Hadoop',\n",
       " 'AngularJS; Xamarin',\n",
       " 'AngularJS; Node.js; Cordova; Firebase',\n",
       " 'Hadoop; Node.js; React',\n",
       " 'AngularJS; Firebase; .NET Core',\n",
       " 'AngularJS; Xamarin; .NET Core',\n",
       " 'Hadoop; Spark; .NET Core',\n",
       " 'Node.js; Firebase',\n",
       " 'AngularJS; Hadoop; Cordova; Firebase; .NET Core',\n",
       " 'AngularJS; Firebase',\n",
       " 'React; Firebase',\n",
       " 'AngularJS; Node.js; Cordova; .NET Core',\n",
       " 'Xamarin; Firebase; .NET Core',\n",
       " 'AngularJS; Node.js; Cordova; Firebase; .NET Core',\n",
       " 'Node.js; React; Xamarin',\n",
       " 'AngularJS; Node.js; React; Xamarin; Firebase; .NET Core',\n",
       " 'Node.js; Cordova; .NET Core',\n",
       " 'Cordova; Firebase',\n",
       " 'AngularJS; React; .NET Core',\n",
       " 'AngularJS; Node.js; React; Cordova',\n",
       " 'AngularJS; Hadoop; Cordova',\n",
       " 'Cordova; Xamarin',\n",
       " 'Firebase; .NET Core',\n",
       " 'AngularJS; Node.js; Spark',\n",
       " 'Node.js; Spark',\n",
       " 'AngularJS; Spark',\n",
       " 'Node.js; Cordova; Xamarin',\n",
       " 'AngularJS; Node.js; Spark; .NET Core',\n",
       " 'Cordova; .NET Core',\n",
       " 'Node.js; Cordova; Firebase',\n",
       " 'Node.js; Firebase; .NET Core',\n",
       " 'React; Cordova; Firebase',\n",
       " 'AngularJS; Hadoop; .NET Core',\n",
       " 'AngularJS; Cordova; Firebase',\n",
       " 'Hadoop; Spark; Firebase; .NET Core',\n",
       " 'AngularJS; Hadoop',\n",
       " 'AngularJS; Node.js; Cordova; Xamarin; Firebase; .NET Core',\n",
       " 'AngularJS; Node.js; React; Cordova; Firebase',\n",
       " 'Spark; Firebase',\n",
       " 'Node.js; React; Xamarin; .NET Core',\n",
       " 'React; Cordova',\n",
       " 'AngularJS; Node.js; React; Cordova; .NET Core',\n",
       " 'AngularJS; Node.js; Spark; Xamarin; .NET Core',\n",
       " 'AngularJS; Node.js; React; Firebase; .NET Core',\n",
       " 'Hadoop; Spark; Cordova',\n",
       " 'AngularJS; Cordova; Xamarin',\n",
       " 'AngularJS; Node.js; Xamarin',\n",
       " 'Node.js; React; Spark',\n",
       " 'Node.js; Cordova; Xamarin; .NET Core',\n",
       " 'Node.js; React; Cordova; Xamarin; .NET Core',\n",
       " 'Hadoop; React; Spark; Firebase',\n",
       " 'AngularJS; React; Firebase',\n",
       " 'AngularJS; Hadoop; Node.js; Spark; .NET Core',\n",
       " 'AngularJS; React; Xamarin; .NET Core',\n",
       " 'AngularJS; Hadoop; Node.js; React; Spark; .NET Core',\n",
       " 'Hadoop; Node.js; React; Spark',\n",
       " 'Hadoop; Node.js; Spark; .NET Core',\n",
       " 'AngularJS; Hadoop; React; Spark',\n",
       " 'Cordova; Firebase; .NET Core',\n",
       " 'AngularJS; React; Xamarin; Firebase; .NET Core',\n",
       " 'Spark; .NET Core',\n",
       " 'AngularJS; Node.js; Xamarin; Firebase; .NET Core',\n",
       " 'Hadoop; Node.js; .NET Core',\n",
       " 'AngularJS; Spark; Cordova',\n",
       " 'Hadoop; React; Spark',\n",
       " 'Hadoop; Node.js; React; .NET Core',\n",
       " 'Cordova; Xamarin; Firebase; .NET Core',\n",
       " 'AngularJS; Hadoop; Node.js; React; Cordova; Firebase; .NET Core',\n",
       " 'Hadoop; React',\n",
       " 'AngularJS; Hadoop; Xamarin',\n",
       " 'AngularJS; Node.js; React; Cordova; Xamarin',\n",
       " 'AngularJS; Node.js; React; Spark; Cordova; Firebase',\n",
       " 'React; Xamarin',\n",
       " 'AngularJS; React; Cordova; Xamarin',\n",
       " 'Node.js; React; Cordova; .NET Core',\n",
       " 'Node.js; React; Firebase; .NET Core',\n",
       " 'AngularJS; Hadoop; Node.js; React; Spark; Firebase',\n",
       " 'AngularJS; Cordova; Xamarin; Firebase',\n",
       " 'AngularJS; Hadoop; Spark; Xamarin; .NET Core',\n",
       " 'AngularJS; Node.js; Cordova; Xamarin; Firebase',\n",
       " 'AngularJS; Hadoop; Node.js; Firebase',\n",
       " 'AngularJS; Hadoop; Node.js; Cordova; Firebase',\n",
       " 'React; Xamarin; Firebase',\n",
       " 'Cordova; Xamarin; Firebase',\n",
       " 'Hadoop; Spark; Xamarin; Firebase; .NET Core',\n",
       " 'AngularJS; Hadoop; Node.js; Cordova; Firebase; .NET Core',\n",
       " 'AngularJS; Hadoop; Node.js; React; Spark; Cordova; Xamarin; Firebase; .NET Core',\n",
       " 'React; Cordova; .NET Core',\n",
       " 'Hadoop; Node.js; Firebase',\n",
       " 'AngularJS; Node.js; React; Cordova; Xamarin; Firebase',\n",
       " 'Hadoop; Firebase',\n",
       " 'AngularJS; Hadoop; Node.js; React; Cordova; Xamarin; .NET Core',\n",
       " 'AngularJS; React; Spark',\n",
       " 'AngularJS; Node.js; React; Spark; Cordova; Firebase; .NET Core',\n",
       " 'AngularJS; Hadoop; Node.js; React; Firebase; .NET Core',\n",
       " 'AngularJS; Node.js; React; Spark; Cordova; Xamarin; Firebase',\n",
       " 'AngularJS; Hadoop; Node.js; Cordova; .NET Core',\n",
       " 'AngularJS; Hadoop; Spark; .NET Core',\n",
       " 'Node.js; Xamarin; Firebase',\n",
       " 'AngularJS; Node.js; React; Spark; Xamarin; .NET Core',\n",
       " 'Hadoop; Node.js; Cordova',\n",
       " 'Hadoop; Spark; Firebase',\n",
       " 'AngularJS; Node.js; Xamarin; Firebase',\n",
       " 'AngularJS; React; Cordova; Xamarin; Firebase; .NET Core',\n",
       " 'AngularJS; React; Spark; .NET Core',\n",
       " 'Hadoop; Node.js; React; Cordova; Firebase',\n",
       " 'AngularJS; Hadoop; React; .NET Core',\n",
       " 'Node.js; Spark; Firebase',\n",
       " 'AngularJS; Hadoop; React',\n",
       " 'AngularJS; Node.js; Spark; Firebase',\n",
       " 'AngularJS; Hadoop; Node.js; Spark; Cordova; Xamarin; .NET Core',\n",
       " 'AngularJS; Hadoop; Node.js; React; Firebase',\n",
       " 'AngularJS; Node.js; React; Cordova; Firebase; .NET Core',\n",
       " 'AngularJS; React; Cordova; Firebase',\n",
       " 'Node.js; React; Cordova; Firebase',\n",
       " 'Node.js; Xamarin; Firebase; .NET Core',\n",
       " 'AngularJS; Hadoop; Node.js; React; .NET Core',\n",
       " 'Node.js; React; Cordova; Xamarin',\n",
       " 'Hadoop; Node.js; React; Firebase',\n",
       " 'Spark; Cordova',\n",
       " 'Node.js; Spark; Xamarin; .NET Core',\n",
       " 'AngularJS; Hadoop; React; Cordova',\n",
       " 'AngularJS; Node.js; React; Cordova; Xamarin; .NET Core',\n",
       " 'Node.js; Cordova; Xamarin; Firebase; .NET Core',\n",
       " 'AngularJS; Hadoop; Node.js; Xamarin',\n",
       " 'Spark; Xamarin',\n",
       " 'AngularJS; Hadoop; Node.js; React; Xamarin; .NET Core',\n",
       " 'AngularJS; Hadoop; Node.js; Spark; Firebase',\n",
       " 'AngularJS; Hadoop; Node.js; Spark; Cordova; Firebase',\n",
       " 'AngularJS; Hadoop; Node.js; React; Cordova; .NET Core',\n",
       " 'AngularJS; Hadoop; Node.js; Firebase; .NET Core',\n",
       " 'AngularJS; Hadoop; React; Spark; Cordova; Xamarin; .NET Core',\n",
       " 'Hadoop; Spark; Xamarin; .NET Core',\n",
       " 'AngularJS; Hadoop; Xamarin; .NET Core',\n",
       " 'AngularJS; Hadoop; Node.js; Spark; Xamarin; .NET Core',\n",
       " 'AngularJS; Hadoop; React; Firebase',\n",
       " 'AngularJS; Spark; Cordova; .NET Core',\n",
       " 'AngularJS; Hadoop; Node.js; Cordova',\n",
       " 'AngularJS; Hadoop; Node.js; React; Cordova; Xamarin; Firebase; .NET Core',\n",
       " 'AngularJS; Hadoop; Node.js; React; Spark; Xamarin; Firebase; .NET Core',\n",
       " 'React; Spark; Cordova',\n",
       " 'AngularJS; Hadoop; Node.js; React; Spark; Cordova; Xamarin; Firebase',\n",
       " 'Hadoop; Node.js; React; Spark; .NET Core',\n",
       " 'AngularJS; Hadoop; Node.js; React; Cordova',\n",
       " 'AngularJS; Node.js; Spark; Cordova',\n",
       " 'Hadoop; Xamarin; .NET Core',\n",
       " 'AngularJS; Cordova; Firebase; .NET Core',\n",
       " 'AngularJS; Hadoop; Firebase',\n",
       " 'AngularJS; Hadoop; Node.js; Spark; Xamarin',\n",
       " 'AngularJS; Node.js; React; Spark',\n",
       " 'AngularJS; Hadoop; Node.js; Cordova; Xamarin; .NET Core',\n",
       " 'Node.js; Spark; .NET Core',\n",
       " 'AngularJS; Xamarin; Firebase',\n",
       " 'Node.js; React; Spark; Xamarin; .NET Core',\n",
       " 'AngularJS; React; Spark; Firebase',\n",
       " 'React; Cordova; Firebase; .NET Core',\n",
       " 'AngularJS; Node.js; Spark; Cordova; Firebase',\n",
       " 'Hadoop; Node.js; React; Spark; Xamarin; .NET Core',\n",
       " 'Hadoop; Cordova',\n",
       " 'Node.js; Cordova; Firebase; .NET Core',\n",
       " 'AngularJS; Hadoop; Node.js; React; Cordova; Xamarin',\n",
       " 'AngularJS; Node.js; React; Spark; Firebase',\n",
       " 'Hadoop; Node.js; React; Spark; Cordova; .NET Core',\n",
       " 'AngularJS; Spark; Firebase',\n",
       " 'AngularJS; Cordova; Xamarin; Firebase; .NET Core',\n",
       " 'AngularJS; Node.js; React; Xamarin; Firebase',\n",
       " 'AngularJS; Node.js; Spark; Firebase; .NET Core',\n",
       " 'Hadoop; Node.js; React; Xamarin; .NET Core',\n",
       " 'AngularJS; Hadoop; Cordova; .NET Core',\n",
       " 'Node.js; Spark; Cordova',\n",
       " 'AngularJS; Spark; .NET Core',\n",
       " 'AngularJS; Node.js; React; Spark; Cordova; Xamarin; .NET Core',\n",
       " 'AngularJS; Hadoop; Node.js; React; Cordova; Firebase',\n",
       " 'Node.js; Spark; Xamarin',\n",
       " 'AngularJS; Hadoop; Node.js; React; Spark; Cordova',\n",
       " 'Hadoop; Node.js; Spark; Cordova',\n",
       " 'Hadoop; Spark; Xamarin',\n",
       " 'Hadoop; Cordova; Firebase',\n",
       " 'Hadoop; Node.js; React; Spark; Cordova; Xamarin; Firebase; .NET Core',\n",
       " 'AngularJS; Hadoop; Node.js; Spark; Cordova',\n",
       " 'Hadoop; Node.js; React; Cordova; .NET Core',\n",
       " 'Hadoop; Xamarin',\n",
       " 'Hadoop; Node.js; Xamarin; .NET Core',\n",
       " 'AngularJS; Hadoop; Node.js; React; Spark; Xamarin; Firebase',\n",
       " 'Hadoop; React; .NET Core',\n",
       " 'Node.js; React; Xamarin; Firebase; .NET Core',\n",
       " 'AngularJS; Xamarin; Firebase; .NET Core',\n",
       " 'AngularJS; Hadoop; Cordova; Xamarin; Firebase',\n",
       " 'Node.js; React; Spark; .NET Core',\n",
       " 'Spark; Cordova; Firebase',\n",
       " 'AngularJS; Node.js; Spark; Cordova; .NET Core',\n",
       " 'AngularJS; React; Cordova; .NET Core',\n",
       " 'Hadoop; Cordova; Xamarin; .NET Core',\n",
       " 'Hadoop; Cordova; .NET Core',\n",
       " 'Hadoop; Node.js; React; Cordova',\n",
       " 'AngularJS; Node.js; React; Spark; Cordova',\n",
       " 'React; Cordova; Xamarin; .NET Core',\n",
       " 'AngularJS; Hadoop; Node.js; Cordova; Xamarin; Firebase',\n",
       " 'AngularJS; Spark; Xamarin; .NET Core',\n",
       " 'Hadoop; Node.js; React; Spark; Cordova',\n",
       " 'Hadoop; Node.js; React; Spark; Firebase',\n",
       " 'AngularJS; Hadoop; Node.js; Spark; Firebase; .NET Core',\n",
       " 'React; Spark; .NET Core',\n",
       " 'Hadoop; Node.js; Cordova; .NET Core',\n",
       " 'Hadoop; React; Spark; Firebase; .NET Core',\n",
       " 'AngularJS; Hadoop; Node.js; Spark; Cordova; .NET Core',\n",
       " 'Hadoop; Firebase; .NET Core',\n",
       " 'Hadoop; React; Cordova; Xamarin; Firebase; .NET Core']"
      ]
     },
     "execution_count": 149,
     "metadata": {},
     "output_type": "execute_result"
    }
   ],
   "source": [
    "df_2_skill_subset_Fwork.HaveWorkedFramework.unique().tolist()"
   ]
  },
  {
   "cell_type": "markdown",
   "id": "fe769e32",
   "metadata": {},
   "source": [
    "#### Above shows unique() values into HaveWorkedFramework column, Though they could be unique but reviewing those values show same keywords being used in combination of other keywords. For ex. AngularJS, .NET Core, React, Spark etc. Definately no. of Framework tech. are quite limited in market and they can be presented in better way than this, which will make analysis better."
   ]
  },
  {
   "cell_type": "code",
   "execution_count": 150,
   "id": "78b83f67",
   "metadata": {},
   "outputs": [
    {
     "data": {
      "text/plain": [
       "Text(0, 0.5, 'No. of Respondents')"
      ]
     },
     "execution_count": 150,
     "metadata": {},
     "output_type": "execute_result"
    },
    {
     "data": {
      "image/png": "[encoded data removed]",
      "text/plain": [
       "<Figure size 432x288 with 1 Axes>"
      ]
     },
     "metadata": {
      "needs_background": "light"
     },
     "output_type": "display_data"
    }
   ],
   "source": [
    "pd.value_counts(df_2_skill_subset_Fwork['CareerSatisfaction']).plot.bar()\n",
    "plt.title(\"CareerSatisfaction Chart\")\n",
    "plt.xlabel(\"Rating\")\n",
    "plt.ylabel(\"No. of Respondents\")"
   ]
  },
  {
   "cell_type": "code",
   "execution_count": 151,
   "id": "8c6c0247",
   "metadata": {},
   "outputs": [
    {
     "data": {
      "text/plain": [
       "Text(0, 0.5, 'No. of Respondents')"
      ]
     },
     "execution_count": 151,
     "metadata": {},
     "output_type": "execute_result"
    },
    {
     "data": {
      "image/png": "[encoded data removed]",
      "text/plain": [
       "<Figure size 432x288 with 1 Axes>"
      ]
     },
     "metadata": {
      "needs_background": "light"
     },
     "output_type": "display_data"
    }
   ],
   "source": [
    "pd.value_counts(df_2_skill_subset_Fwork['JobSatisfaction']).plot.bar()\n",
    "plt.title(\"JobSatisfaction Chart\")\n",
    "plt.xlabel(\"Rating\")\n",
    "plt.ylabel(\"No. of Respondents\")"
   ]
  },
  {
   "cell_type": "markdown",
   "id": "2bf5789e",
   "metadata": {},
   "source": [
    "#### In above garphs, Job & Career satisfaction rating is above 5 for approx. 85-90% of respondents and we filtered data based on Framework Tech. used by those respondents in day-2-day work. So we can conclude that those languages are still popular in industry and having good job market. Now we will see which language is most popular among respondents."
   ]
  },
  {
   "cell_type": "code",
   "execution_count": 152,
   "id": "fd1f1a81",
   "metadata": {},
   "outputs": [
    {
     "data": {
      "text/plain": [
       ".NET Core                                               2169\n",
       "AngularJS                                               1702\n",
       "Node.js                                                 1422\n",
       "AngularJS; Node.js                                      1399\n",
       "Node.js; React                                           678\n",
       "                                                        ... \n",
       "Node.js; Cordova; Firebase; .NET Core                      1\n",
       "Hadoop; Node.js; React; Spark; Xamarin; .NET Core          1\n",
       "AngularJS; Node.js; Spark; Cordova; Firebase               1\n",
       "React; Cordova; Firebase; .NET Core                        1\n",
       "Hadoop; React; Cordova; Xamarin; Firebase; .NET Core       1\n",
       "Name: HaveWorkedFramework, Length: 261, dtype: int64"
      ]
     },
     "execution_count": 152,
     "metadata": {},
     "output_type": "execute_result"
    }
   ],
   "source": [
    "df_2_skill_subset_DB.HaveWorkedFramework.value_counts()"
   ]
  },
  {
   "cell_type": "code",
   "execution_count": 153,
   "id": "dcb921c4",
   "metadata": {},
   "outputs": [
    {
     "data": {
      "text/plain": [
       ".NET Core                                                 1387\n",
       "Node.js; React                                            1051\n",
       "AngularJS; Node.js                                        1043\n",
       "Node.js                                                   1026\n",
       "AngularJS; Node.js; React                                  877\n",
       "                                                          ... \n",
       "Hadoop; React; Cordova; Xamarin                              1\n",
       "AngularJS; Node.js; Spark; Cordova; Xamarin; .NET Core       1\n",
       "AngularJS; Hadoop; Spark; Xamarin                            1\n",
       "React; Spark; Cordova                                        1\n",
       "Spark; Cordova; Xamarin; .NET Core                           1\n",
       "Name: WantWorkFramework, Length: 397, dtype: int64"
      ]
     },
     "execution_count": 153,
     "metadata": {},
     "output_type": "execute_result"
    }
   ],
   "source": [
    "df_2_skill_subset_DB.WantWorkFramework.value_counts()"
   ]
  },
  {
   "cell_type": "markdown",
   "id": "7858b986",
   "metadata": {},
   "source": [
    "#### Here we see .NET Core and Angular JS are most preffered Framework in both already known and want to learn list. So they could be dominant framework in Industry which made them very popular. There are other frameworks like React, Spark, Hadoop which is also gaining popularity but in combination with .Net/Angular."
   ]
  },
  {
   "cell_type": "markdown",
   "id": "7b784af4",
   "metadata": {},
   "source": [
    "## Analysis of Job Assessment parameters "
   ]
  },
  {
   "cell_type": "markdown",
   "id": "b9fd722c",
   "metadata": {},
   "source": [
    "#### Creating copy from master data frame"
   ]
  },
  {
   "cell_type": "code",
   "execution_count": 154,
   "id": "c23e8c2a",
   "metadata": {},
   "outputs": [],
   "source": [
    "df_2_JobAssess = copy.deepcopy(df)"
   ]
  },
  {
   "cell_type": "code",
   "execution_count": 155,
   "id": "d74b4520",
   "metadata": {},
   "outputs": [],
   "source": [
    "df_2_JobAssess_subset = df_2_JobAssess[['Professional','AssessJobCommute','AssessJobCompensation','AssessJobDept',\n",
    "                                        'AssessJobDiversity','AssessJobExp','AssessJobFinances','AssessJobIndustry',\n",
    "                                        'AssessJobLeaders','AssessJobOffice','AssessJobProduct','AssessJobRemote',\n",
    "                                        'AssessJobProfDevel','AssessJobRole','CareerSatisfaction','JobSatisfaction']]"
   ]
  },
  {
   "cell_type": "code",
   "execution_count": 156,
   "id": "6c4ed50e",
   "metadata": {},
   "outputs": [
    {
     "name": "stdout",
     "output_type": "stream",
     "text": [
      "<class 'pandas.core.frame.DataFrame'>\n",
      "RangeIndex: 51392 entries, 0 to 51391\n",
      "Data columns (total 16 columns):\n",
      " #   Column                 Non-Null Count  Dtype  \n",
      "---  ------                 --------------  -----  \n",
      " 0   Professional           51392 non-null  object \n",
      " 1   AssessJobCommute       21973 non-null  object \n",
      " 2   AssessJobCompensation  22146 non-null  object \n",
      " 3   AssessJobDept          22123 non-null  object \n",
      " 4   AssessJobDiversity     21978 non-null  object \n",
      " 5   AssessJobExp           22136 non-null  object \n",
      " 6   AssessJobFinances      22023 non-null  object \n",
      " 7   AssessJobIndustry      22130 non-null  object \n",
      " 8   AssessJobLeaders       21986 non-null  object \n",
      " 9   AssessJobOffice        22004 non-null  object \n",
      " 10  AssessJobProduct       21997 non-null  object \n",
      " 11  AssessJobRemote        22020 non-null  object \n",
      " 12  AssessJobProfDevel     21998 non-null  object \n",
      " 13  AssessJobRole          22147 non-null  object \n",
      " 14  CareerSatisfaction     42695 non-null  float64\n",
      " 15  JobSatisfaction        40376 non-null  float64\n",
      "dtypes: float64(2), object(14)\n",
      "memory usage: 6.3+ MB\n"
     ]
    }
   ],
   "source": [
    "df_2_JobAssess_subset.info()"
   ]
  },
  {
   "cell_type": "markdown",
   "id": "d0a2eb60",
   "metadata": {},
   "source": [
    "#### We have noticed 60% NAN or NULL values into Assessment related columns and imputing String values would not be possible, so for now we will keep only values with some response."
   ]
  },
  {
   "cell_type": "code",
   "execution_count": 157,
   "id": "21225bbd",
   "metadata": {},
   "outputs": [
    {
     "data": {
      "text/plain": [
       "Professional                 0\n",
       "AssessJobCommute         29419\n",
       "AssessJobCompensation    29246\n",
       "AssessJobDept            29269\n",
       "AssessJobDiversity       29414\n",
       "AssessJobExp             29256\n",
       "AssessJobFinances        29369\n",
       "AssessJobIndustry        29262\n",
       "AssessJobLeaders         29406\n",
       "AssessJobOffice          29388\n",
       "AssessJobProduct         29395\n",
       "AssessJobRemote          29372\n",
       "AssessJobProfDevel       29394\n",
       "AssessJobRole            29245\n",
       "CareerSatisfaction        8697\n",
       "JobSatisfaction          11016\n",
       "dtype: int64"
      ]
     },
     "execution_count": 157,
     "metadata": {},
     "output_type": "execute_result"
    }
   ],
   "source": [
    "df_2_JobAssess_subset.isnull().sum()"
   ]
  },
  {
   "cell_type": "markdown",
   "id": "128b1abd",
   "metadata": {},
   "source": [
    "#### Response of Assessment questions for Job is not great and its just 40-45% of total response. Since these columns are non-numeric and each column has approx. 60% missing data so imputing some value would result in wrong analysis. Rather we drop rows with NULL or NAN values from other columns to have consistent data set for further analysis"
   ]
  },
  {
   "cell_type": "code",
   "execution_count": 158,
   "id": "f0c1fba8",
   "metadata": {},
   "outputs": [
    {
     "name": "stdout",
     "output_type": "stream",
     "text": [
      "<class 'pandas.core.frame.DataFrame'>\n",
      "Int64Index: 22146 entries, 0 to 51391\n",
      "Data columns (total 16 columns):\n",
      " #   Column                 Non-Null Count  Dtype  \n",
      "---  ------                 --------------  -----  \n",
      " 0   Professional           22146 non-null  object \n",
      " 1   AssessJobCommute       21517 non-null  object \n",
      " 2   AssessJobCompensation  22146 non-null  object \n",
      " 3   AssessJobDept          22033 non-null  object \n",
      " 4   AssessJobDiversity     21521 non-null  object \n",
      " 5   AssessJobExp           22048 non-null  object \n",
      " 6   AssessJobFinances      21559 non-null  object \n",
      " 7   AssessJobIndustry      22043 non-null  object \n",
      " 8   AssessJobLeaders       21529 non-null  object \n",
      " 9   AssessJobOffice        21535 non-null  object \n",
      " 10  AssessJobProduct       21533 non-null  object \n",
      " 11  AssessJobRemote        21550 non-null  object \n",
      " 12  AssessJobProfDevel     21533 non-null  object \n",
      " 13  AssessJobRole          22055 non-null  object \n",
      " 14  CareerSatisfaction     19042 non-null  float64\n",
      " 15  JobSatisfaction        18018 non-null  float64\n",
      "dtypes: float64(2), object(14)\n",
      "memory usage: 2.9+ MB\n"
     ]
    }
   ],
   "source": [
    "df_2_JobAssess_subset1 = df_2_JobAssess_subset.dropna(subset=['AssessJobCompensation'])\n",
    "df_2_JobAssess_subset1.info()"
   ]
  },
  {
   "cell_type": "markdown",
   "id": "80526668",
   "metadata": {},
   "source": [
    "#### Now we have columns are very less missing values so analysis can be carried on"
   ]
  },
  {
   "cell_type": "code",
   "execution_count": 159,
   "id": "5515f818",
   "metadata": {
    "scrolled": true
   },
   "outputs": [
    {
     "data": {
      "text/plain": [
       "Important               8133\n",
       "Very important          6857\n",
       "Somewhat important      4980\n",
       "Not very important      1284\n",
       "Not at all important     263\n",
       "Name: AssessJobCommute, dtype: int64"
      ]
     },
     "execution_count": 159,
     "metadata": {},
     "output_type": "execute_result"
    }
   ],
   "source": [
    "df_2_JobAssess_subset1.AssessJobCommute.value_counts()"
   ]
  },
  {
   "cell_type": "markdown",
   "id": "ba18c343",
   "metadata": {},
   "source": [
    "## Since Assessment has many columns to cover various aspects but few columns have relationship or certain impact on values of other columns. So we thought of below columns with some relationships. \n",
    "\n",
    "#### AssessJobOffice & AssessJobDiversity >> Response is focused on will office environment matters or not and definately diversity is one aspect of it. \n",
    "\n",
    "#### AssessJobFinances & AssessJobLeaders >> Financial status of Organization/Capitals, Revenue etc. and leaders has close connections. \n",
    "\n",
    "#### AssessJobExp,AssessJobRole,AssessJobCompensation,AssessJobProfDevel >> Key indicators of any job seeker to make firm decision. \n",
    "\n",
    "#### AssessJobRemote & AssessJobCommute >> More related with Flexibility and work-life balance. \n",
    "\n",
    "#### AssessJobIndustry,AssessJobDept,AssessJobProduct >> Respondents with Domain expertise prefer to choose industry, department like Risk/Finance, Security, R&D, Operations etc. "
   ]
  },
  {
   "cell_type": "markdown",
   "id": "93eaaa76",
   "metadata": {},
   "source": [
    "## AssessJobOffice & AssessJobDiversity"
   ]
  },
  {
   "cell_type": "code",
   "execution_count": 160,
   "id": "26097d4c",
   "metadata": {},
   "outputs": [
    {
     "data": {
      "text/plain": [
       "<AxesSubplot:xlabel='AssessJobOffice'>"
      ]
     },
     "execution_count": 160,
     "metadata": {},
     "output_type": "execute_result"
    },
    {
     "data": {
      "image/png": "[encoded data removed]",
      "text/plain": [
       "<Figure size 432x288 with 1 Axes>"
      ]
     },
     "metadata": {
      "needs_background": "light"
     },
     "output_type": "display_data"
    }
   ],
   "source": [
    "df_2_JobAssess_subset1.groupby('AssessJobOffice').size().sort_values(ascending=False).plot(kind='bar')"
   ]
  },
  {
   "cell_type": "code",
   "execution_count": 161,
   "id": "99b909f9",
   "metadata": {},
   "outputs": [
    {
     "data": {
      "text/plain": [
       "<AxesSubplot:xlabel='AssessJobDiversity'>"
      ]
     },
     "execution_count": 161,
     "metadata": {},
     "output_type": "execute_result"
    },
    {
     "data": {
      "image/png": "[encoded data removed]",
      "text/plain": [
       "<Figure size 432x288 with 1 Axes>"
      ]
     },
     "metadata": {
      "needs_background": "light"
     },
     "output_type": "display_data"
    }
   ],
   "source": [
    "df_2_JobAssess_subset1.groupby('AssessJobDiversity').size().sort_values(ascending=False).plot(kind='bar')"
   ]
  },
  {
   "cell_type": "markdown",
   "id": "f65231f2",
   "metadata": {},
   "source": [
    "#### Above graphs shows level of importance of Office environment and diversity. Certainly 90-95% respondents look for nice environment becuase it really help in professional performance, sustainability within company and add values into life. \n",
    "\n",
    "#### Another graph of Diversity shows that still for 40% of respondents, diversity does not matter a lot. Though Office environment does matter. "
   ]
  },
  {
   "cell_type": "markdown",
   "id": "8c2409ac",
   "metadata": {},
   "source": [
    "## AssessJobFinances & AssessJobLeaders"
   ]
  },
  {
   "cell_type": "code",
   "execution_count": 162,
   "id": "63f54162",
   "metadata": {},
   "outputs": [
    {
     "data": {
      "text/plain": [
       "<AxesSubplot:xlabel='AssessJobLeaders'>"
      ]
     },
     "execution_count": 162,
     "metadata": {},
     "output_type": "execute_result"
    },
    {
     "data": {
      "image/png": "[encoded data removed]",
      "text/plain": [
       "<Figure size 432x288 with 1 Axes>"
      ]
     },
     "metadata": {
      "needs_background": "light"
     },
     "output_type": "display_data"
    }
   ],
   "source": [
    "df_2_JobAssess_subset1.groupby('AssessJobLeaders').size().sort_values(ascending=False).plot(kind='bar')"
   ]
  },
  {
   "cell_type": "code",
   "execution_count": 163,
   "id": "df0d77b4",
   "metadata": {},
   "outputs": [
    {
     "data": {
      "text/plain": [
       "<AxesSubplot:xlabel='AssessJobFinances'>"
      ]
     },
     "execution_count": 163,
     "metadata": {},
     "output_type": "execute_result"
    },
    {
     "data": {
      "image/png": "[encoded data removed]",
      "text/plain": [
       "<Figure size 432x288 with 1 Axes>"
      ]
     },
     "metadata": {
      "needs_background": "light"
     },
     "output_type": "display_data"
    }
   ],
   "source": [
    "df_2_JobAssess_subset1.groupby('AssessJobFinances').size().sort_values(ascending=False).plot(kind='bar')"
   ]
  },
  {
   "cell_type": "markdown",
   "id": "40aec28b",
   "metadata": {},
   "source": [
    "#### We can clearly see Leadership and Company financial status is key factor for 70% of respondents. Having good leadership inspire people to achieve personal and professional goals and Financial prospect reflects into quality of life. "
   ]
  },
  {
   "cell_type": "markdown",
   "id": "cca3e17d",
   "metadata": {},
   "source": [
    "## AssessJobExp,AssessJobRole,AssessJobCompensation,AssessJobProfDevel"
   ]
  },
  {
   "cell_type": "code",
   "execution_count": 164,
   "id": "9db00b38",
   "metadata": {},
   "outputs": [
    {
     "data": {
      "text/plain": [
       "<AxesSubplot:xlabel='AssessJobExp'>"
      ]
     },
     "execution_count": 164,
     "metadata": {},
     "output_type": "execute_result"
    },
    {
     "data": {
      "image/png": "[encoded data removed]",
      "text/plain": [
       "<Figure size 432x288 with 1 Axes>"
      ]
     },
     "metadata": {
      "needs_background": "light"
     },
     "output_type": "display_data"
    }
   ],
   "source": [
    "df_2_JobAssess_subset1.groupby('AssessJobExp').size().sort_values(ascending=False).plot(kind='bar')"
   ]
  },
  {
   "cell_type": "code",
   "execution_count": 165,
   "id": "6f5f6169",
   "metadata": {},
   "outputs": [
    {
     "data": {
      "text/plain": [
       "<AxesSubplot:xlabel='AssessJobCompensation'>"
      ]
     },
     "execution_count": 165,
     "metadata": {},
     "output_type": "execute_result"
    },
    {
     "data": {
      "image/png": "[encoded data removed]",
      "text/plain": [
       "<Figure size 432x288 with 1 Axes>"
      ]
     },
     "metadata": {
      "needs_background": "light"
     },
     "output_type": "display_data"
    }
   ],
   "source": [
    "df_2_JobAssess_subset1.groupby('AssessJobCompensation').size().sort_values(ascending=False).plot(kind='bar')"
   ]
  },
  {
   "cell_type": "code",
   "execution_count": 166,
   "id": "1358b331",
   "metadata": {},
   "outputs": [
    {
     "data": {
      "text/plain": [
       "<AxesSubplot:xlabel='AssessJobRole'>"
      ]
     },
     "execution_count": 166,
     "metadata": {},
     "output_type": "execute_result"
    },
    {
     "data": {
      "image/png": "[encoded data removed]",
      "text/plain": [
       "<Figure size 432x288 with 1 Axes>"
      ]
     },
     "metadata": {
      "needs_background": "light"
     },
     "output_type": "display_data"
    }
   ],
   "source": [
    "df_2_JobAssess_subset1.groupby('AssessJobRole').size().sort_values(ascending=False).plot(kind='bar')"
   ]
  },
  {
   "cell_type": "code",
   "execution_count": 167,
   "id": "b4a9798b",
   "metadata": {},
   "outputs": [
    {
     "data": {
      "text/plain": [
       "<AxesSubplot:xlabel='AssessJobProfDevel'>"
      ]
     },
     "execution_count": 167,
     "metadata": {},
     "output_type": "execute_result"
    },
    {
     "data": {
      "image/png": "[encoded data removed]",
      "text/plain": [
       "<Figure size 432x288 with 1 Axes>"
      ]
     },
     "metadata": {
      "needs_background": "light"
     },
     "output_type": "display_data"
    }
   ],
   "source": [
    "df_2_JobAssess_subset1.groupby('AssessJobProfDevel').size().sort_values(ascending=False).plot(kind='bar')"
   ]
  },
  {
   "cell_type": "markdown",
   "id": "4c37dc59",
   "metadata": {},
   "source": [
    "#### As we anticipated, these 4 factors are tightly coupled and 90% of respondents are very conscious about Job role, Prof. development path in coming year, years of expeience along with Compensation. In general, nobody wants to be at under-fit or over-fit job role as it increases Risk under cost cutting or redundancy umbrella."
   ]
  },
  {
   "cell_type": "markdown",
   "id": "d888bee4",
   "metadata": {},
   "source": [
    "## AssessJobIndustry,AssessJobDept,AssessJobProduct "
   ]
  },
  {
   "cell_type": "code",
   "execution_count": 168,
   "id": "ddf00c0c",
   "metadata": {},
   "outputs": [
    {
     "data": {
      "text/plain": [
       "<AxesSubplot:xlabel='AssessJobIndustry'>"
      ]
     },
     "execution_count": 168,
     "metadata": {},
     "output_type": "execute_result"
    },
    {
     "data": {
      "image/png": "[encoded data removed]",
      "text/plain": [
       "<Figure size 432x288 with 1 Axes>"
      ]
     },
     "metadata": {
      "needs_background": "light"
     },
     "output_type": "display_data"
    }
   ],
   "source": [
    "df_2_JobAssess_subset1.groupby('AssessJobIndustry').size().sort_values(ascending=False).plot(kind='bar')"
   ]
  },
  {
   "cell_type": "code",
   "execution_count": 169,
   "id": "6d5a801e",
   "metadata": {},
   "outputs": [
    {
     "data": {
      "text/plain": [
       "<AxesSubplot:xlabel='AssessJobDept'>"
      ]
     },
     "execution_count": 169,
     "metadata": {},
     "output_type": "execute_result"
    },
    {
     "data": {
      "image/png": "[encoded data removed]",
      "text/plain": [
       "<Figure size 432x288 with 1 Axes>"
      ]
     },
     "metadata": {
      "needs_background": "light"
     },
     "output_type": "display_data"
    }
   ],
   "source": [
    "df_2_JobAssess_subset1.groupby('AssessJobDept').size().sort_values(ascending=False).plot(kind='bar')"
   ]
  },
  {
   "cell_type": "code",
   "execution_count": 170,
   "id": "44295dfe",
   "metadata": {},
   "outputs": [
    {
     "data": {
      "text/plain": [
       "<AxesSubplot:xlabel='AssessJobProduct'>"
      ]
     },
     "execution_count": 170,
     "metadata": {},
     "output_type": "execute_result"
    },
    {
     "data": {
      "image/png": "[encoded data removed]",
      "text/plain": [
       "<Figure size 432x288 with 1 Axes>"
      ]
     },
     "metadata": {
      "needs_background": "light"
     },
     "output_type": "display_data"
    }
   ],
   "source": [
    "df_2_JobAssess_subset1.groupby('AssessJobProduct').size().sort_values(ascending=False).plot(kind='bar')"
   ]
  },
  {
   "cell_type": "markdown",
   "id": "256771e3",
   "metadata": {},
   "source": [
    "#### Respondents with Domain expertise would prefer to know about Indutry, Department or Product so that they can excel into targettted industry which helps to build nice portfolio. \n",
    "\n",
    "#### For ex. Developer who worked into Banking/Finance industry will have technical as well as banking Domain awareness, risk/compliance prospect, audit related controls etc. and other bank/finance companies look for those pointers into candidate,so this Techincal-Domain expertise is attrative portfolio. \n",
    "\n",
    "#### Above graphs shows 80% of respondents reviews it seriously and clarify in-depth prior to any decision."
   ]
  },
  {
   "cell_type": "markdown",
   "id": "b14116cb",
   "metadata": {},
   "source": [
    "## AssessJobRemote & AssessJobCommute"
   ]
  },
  {
   "cell_type": "code",
   "execution_count": 171,
   "id": "6d3add35",
   "metadata": {},
   "outputs": [
    {
     "data": {
      "text/plain": [
       "<AxesSubplot:xlabel='AssessJobRemote'>"
      ]
     },
     "execution_count": 171,
     "metadata": {},
     "output_type": "execute_result"
    },
    {
     "data": {
      "image/png": "[encoded data removed]",
      "text/plain": [
       "<Figure size 432x288 with 1 Axes>"
      ]
     },
     "metadata": {
      "needs_background": "light"
     },
     "output_type": "display_data"
    }
   ],
   "source": [
    "df_2_JobAssess_subset1.groupby('AssessJobRemote').size().sort_values(ascending=False).plot(kind='bar')"
   ]
  },
  {
   "cell_type": "code",
   "execution_count": 172,
   "id": "e3fc08c9",
   "metadata": {},
   "outputs": [
    {
     "data": {
      "text/plain": [
       "<AxesSubplot:xlabel='AssessJobCommute'>"
      ]
     },
     "execution_count": 172,
     "metadata": {},
     "output_type": "execute_result"
    },
    {
     "data": {
      "image/png": "[encoded data removed]",
      "text/plain": [
       "<Figure size 432x288 with 1 Axes>"
      ]
     },
     "metadata": {
      "needs_background": "light"
     },
     "output_type": "display_data"
    }
   ],
   "source": [
    "df_2_JobAssess_subset1.groupby('AssessJobCommute').size().sort_values(ascending=False).plot(kind='bar')"
   ]
  },
  {
   "cell_type": "markdown",
   "id": "ec5cbd95",
   "metadata": {},
   "source": [
    "#### Now Commute and Remote working are key buzz words while assessing new Jobs as it shows how flexible company is, how much time respondent needs to spead on commute, how difficult would be commute to office, various available options for office commute etc. These also impact work-life balance so they are also considerble factors now a days. "
   ]
  },
  {
   "cell_type": "code",
   "execution_count": 173,
   "id": "d6d8d46a",
   "metadata": {},
   "outputs": [
    {
     "data": {
      "text/plain": [
       "Text(0, 0.5, 'No. of Respondents')"
      ]
     },
     "execution_count": 173,
     "metadata": {},
     "output_type": "execute_result"
    },
    {
     "data": {
      "image/png": "[encoded data removed]",
      "text/plain": [
       "<Figure size 432x288 with 1 Axes>"
      ]
     },
     "metadata": {
      "needs_background": "light"
     },
     "output_type": "display_data"
    }
   ],
   "source": [
    "pd.value_counts(df_2_JobAssess_subset1['JobSatisfaction']).plot.bar()\n",
    "plt.title(\"JobSatisfaction Chart\")\n",
    "plt.xlabel(\"Rating\")\n",
    "plt.ylabel(\"No. of Respondents\")"
   ]
  },
  {
   "cell_type": "code",
   "execution_count": 174,
   "id": "52a0fc6b",
   "metadata": {},
   "outputs": [
    {
     "data": {
      "text/plain": [
       "Text(0, 0.5, 'No. of Respondents')"
      ]
     },
     "execution_count": 174,
     "metadata": {},
     "output_type": "execute_result"
    },
    {
     "data": {
      "image/png": "[encoded data removed]",
      "text/plain": [
       "<Figure size 432x288 with 1 Axes>"
      ]
     },
     "metadata": {
      "needs_background": "light"
     },
     "output_type": "display_data"
    }
   ],
   "source": [
    "pd.value_counts(df_2_JobAssess_subset1['CareerSatisfaction']).plot.bar()\n",
    "plt.title(\"CareerSatisfaction Chart\")\n",
    "plt.xlabel(\"Rating\")\n",
    "plt.ylabel(\"No. of Respondents\")"
   ]
  },
  {
   "cell_type": "markdown",
   "id": "4e81baa5",
   "metadata": {},
   "source": [
    "#### Above graphs for Job and Career satisfaction shows that 90% respondents have given rating more than 4.\n",
    "#### Now lets segregate response on basis of rating using below classification.\n",
    "\n",
    "Excellent  (9 or 10)\n",
    "Meet Expectation (7 to 8)\n",
    "Average ( 5 to 6)\n",
    "Below Expectation (Lower than 5)\n",
    "\n",
    "#### Excellent  (9 or 10)\n",
    "Roughly 10-15% respondent are satisfied with role,company, professionl growth, work-life balance, policies, leadership, compensation since they rated with 9 or 10. \n",
    "\n",
    "#### Meet Expectation (7 to 8)\n",
    "Approx. 50-60% respondent are probably happy with current company/role/compensation etc. but still they look for better prospect and it could be Prof. development, Company policy, work-life balance, Diversity or Compensation etc. Those candidates will explore more opportunity into market to fulfill those gaps. \n",
    "\n",
    "#### Average ( 5 to 6)\n",
    "Approx. 20% respondents are seriously looking for better opportunities and take decision quickly if they find betterment into few prospect like Job role, Compensation, Remote working as these factors will be increare their satisfaction to Meet Expectation. \n",
    "\n",
    "#### Below Expectation (Lower than 5)\n",
    "Approx. 10% respondents probably are working due to some reasons but neither satifised with Job role nor career progression. There could be many reasons includes individual skill set, existing technology, department, leadership, financial aspects etc. "
   ]
  }
 ],
 "metadata": {
  "kernelspec": {
   "display_name": "Python 3 (ipykernel)",
   "language": "python",
   "name": "python3"
  },
  "language_info": {
   "codemirror_mode": {
    "name": "ipython",
    "version": 3
   },
   "file_extension": ".py",
   "mimetype": "text/x-python",
   "name": "python",
   "nbconvert_exporter": "python",
   "pygments_lexer": "ipython3",
   "version": "3.9.7"
  }
 },
 "nbformat": 4,
 "nbformat_minor": 5
}
